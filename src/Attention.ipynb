{
 "cells": [
  {
   "cell_type": "code",
   "execution_count": 1,
   "metadata": {},
   "outputs": [
    {
     "name": "stderr",
     "output_type": "stream",
     "text": [
      "Using TensorFlow backend.\n"
     ]
    }
   ],
   "source": [
    "import pandas as pd\n",
    "import numpy as np\n",
    "import scipy as sc\n",
    "import gensim as gs\n",
    "import matplotlib.pyplot as plt\n",
    "%matplotlib inline\n",
    "\n",
    "# nltk\n",
    "import nltk\n",
    "from nltk.tokenize import word_tokenize as wt\n",
    "from nltk.tokenize import sent_tokenize as st\n",
    "\n",
    "import Levenshtein\n",
    "\n",
    "# sklearn\n",
    "from sklearn.preprocessing import LabelEncoder\n",
    "from sklearn.preprocessing import OneHotEncoder\n",
    "from sklearn.model_selection import train_test_split\n",
    "\n",
    "# keras\n",
    "import keras\n",
    "from keras.preprocessing.sequence import pad_sequences\n",
    "from keras.preprocessing import sequence\n",
    "from keras.layers import Dense,LSTM,Input,Activation,Add,TimeDistributed,Permute,Flatten,RepeatVector\n",
    "from keras.layers import merge,Lambda,Multiply,Reshape, Bidirectional\n",
    "from keras.layers.wrappers import TimeDistributed\n",
    "from keras.layers.embeddings import Embedding\n",
    "from keras.models import Sequential,Model\n",
    "from keras.optimizers import RMSprop\n",
    "from keras import backend as K\n",
    "from keras.utils import np_utils\n",
    "\n",
    "# useful libraries\n",
    "import logging\n",
    "import re\n",
    "from collections import Counter\n",
    "from itertools import chain\n",
    "import random\n",
    "import sys\n",
    "\n",
    "# utils\n",
    "import utils, utils_updated"
   ]
  },
  {
   "cell_type": "code",
   "execution_count": 2,
   "metadata": {},
   "outputs": [],
   "source": [
    "# globals\n",
    "seed = 42\n",
    "embedding_size=100"
   ]
  },
  {
   "cell_type": "code",
   "execution_count": 3,
   "metadata": {},
   "outputs": [
    {
     "name": "stdout",
     "output_type": "stream",
     "text": [
      "(7241, 7)\n"
     ]
    },
    {
     "data": {
      "text/html": [
       "<div>\n",
       "<style scoped>\n",
       "    .dataframe tbody tr th:only-of-type {\n",
       "        vertical-align: middle;\n",
       "    }\n",
       "\n",
       "    .dataframe tbody tr th {\n",
       "        vertical-align: top;\n",
       "    }\n",
       "\n",
       "    .dataframe thead th {\n",
       "        text-align: right;\n",
       "    }\n",
       "</style>\n",
       "<table border=\"1\" class=\"dataframe\">\n",
       "  <thead>\n",
       "    <tr style=\"text-align: right;\">\n",
       "      <th></th>\n",
       "      <th>id</th>\n",
       "      <th>year</th>\n",
       "      <th>title</th>\n",
       "      <th>event_type</th>\n",
       "      <th>pdf_name</th>\n",
       "      <th>abstract</th>\n",
       "      <th>paper_text</th>\n",
       "    </tr>\n",
       "  </thead>\n",
       "  <tbody>\n",
       "    <tr>\n",
       "      <th>0</th>\n",
       "      <td>1</td>\n",
       "      <td>1987</td>\n",
       "      <td>Self-Organization of Associative Database and ...</td>\n",
       "      <td>NaN</td>\n",
       "      <td>1-self-organization-of-associative-database-an...</td>\n",
       "      <td>Abstract Missing</td>\n",
       "      <td>767\\n\\nSELF-ORGANIZATION OF ASSOCIATIVE DATABA...</td>\n",
       "    </tr>\n",
       "    <tr>\n",
       "      <th>1</th>\n",
       "      <td>10</td>\n",
       "      <td>1987</td>\n",
       "      <td>A Mean Field Theory of Layer IV of Visual Cort...</td>\n",
       "      <td>NaN</td>\n",
       "      <td>10-a-mean-field-theory-of-layer-iv-of-visual-c...</td>\n",
       "      <td>Abstract Missing</td>\n",
       "      <td>683\\n\\nA MEAN FIELD THEORY OF LAYER IV OF VISU...</td>\n",
       "    </tr>\n",
       "    <tr>\n",
       "      <th>2</th>\n",
       "      <td>100</td>\n",
       "      <td>1988</td>\n",
       "      <td>Storing Covariance by the Associative Long-Ter...</td>\n",
       "      <td>NaN</td>\n",
       "      <td>100-storing-covariance-by-the-associative-long...</td>\n",
       "      <td>Abstract Missing</td>\n",
       "      <td>394\\n\\nSTORING COVARIANCE BY THE ASSOCIATIVE\\n...</td>\n",
       "    </tr>\n",
       "    <tr>\n",
       "      <th>3</th>\n",
       "      <td>1000</td>\n",
       "      <td>1994</td>\n",
       "      <td>Bayesian Query Construction for Neural Network...</td>\n",
       "      <td>NaN</td>\n",
       "      <td>1000-bayesian-query-construction-for-neural-ne...</td>\n",
       "      <td>Abstract Missing</td>\n",
       "      <td>Bayesian Query Construction for Neural\\nNetwor...</td>\n",
       "    </tr>\n",
       "    <tr>\n",
       "      <th>4</th>\n",
       "      <td>1001</td>\n",
       "      <td>1994</td>\n",
       "      <td>Neural Network Ensembles, Cross Validation, an...</td>\n",
       "      <td>NaN</td>\n",
       "      <td>1001-neural-network-ensembles-cross-validation...</td>\n",
       "      <td>Abstract Missing</td>\n",
       "      <td>Neural Network Ensembles, Cross\\nValidation, a...</td>\n",
       "    </tr>\n",
       "  </tbody>\n",
       "</table>\n",
       "</div>"
      ],
      "text/plain": [
       "     id  year                                              title event_type  \\\n",
       "0     1  1987  Self-Organization of Associative Database and ...        NaN   \n",
       "1    10  1987  A Mean Field Theory of Layer IV of Visual Cort...        NaN   \n",
       "2   100  1988  Storing Covariance by the Associative Long-Ter...        NaN   \n",
       "3  1000  1994  Bayesian Query Construction for Neural Network...        NaN   \n",
       "4  1001  1994  Neural Network Ensembles, Cross Validation, an...        NaN   \n",
       "\n",
       "                                            pdf_name          abstract  \\\n",
       "0  1-self-organization-of-associative-database-an...  Abstract Missing   \n",
       "1  10-a-mean-field-theory-of-layer-iv-of-visual-c...  Abstract Missing   \n",
       "2  100-storing-covariance-by-the-associative-long...  Abstract Missing   \n",
       "3  1000-bayesian-query-construction-for-neural-ne...  Abstract Missing   \n",
       "4  1001-neural-network-ensembles-cross-validation...  Abstract Missing   \n",
       "\n",
       "                                          paper_text  \n",
       "0  767\\n\\nSELF-ORGANIZATION OF ASSOCIATIVE DATABA...  \n",
       "1  683\\n\\nA MEAN FIELD THEORY OF LAYER IV OF VISU...  \n",
       "2  394\\n\\nSTORING COVARIANCE BY THE ASSOCIATIVE\\n...  \n",
       "3  Bayesian Query Construction for Neural\\nNetwor...  \n",
       "4  Neural Network Ensembles, Cross\\nValidation, a...  "
      ]
     },
     "execution_count": 3,
     "metadata": {},
     "output_type": "execute_result"
    }
   ],
   "source": [
    "papers = pd.read_csv('../data/papers.csv')\n",
    "print(papers.shape)\n",
    "papers.head()"
   ]
  },
  {
   "cell_type": "markdown",
   "metadata": {},
   "source": [
    "#### Preprocessing"
   ]
  },
  {
   "cell_type": "code",
   "execution_count": 4,
   "metadata": {},
   "outputs": [
    {
     "name": "stdout",
     "output_type": "stream",
     "text": [
      "(7174, 7)\n",
      "(4659, 8)\n"
     ]
    }
   ],
   "source": [
    "papers = utils_updated.preprocessing(papers)\n",
    "papers = papers.dropna(subset=['abstract'])\n",
    "print(papers.shape)\n",
    "papers['a_len'] = [len(abst.split()) for abst in papers['abstract']]\n",
    "papers = papers[papers['a_len'] < 250]\n",
    "print(papers.shape)\n",
    "titles, abstracts = list(papers['title']),list(papers['abstract'])"
   ]
  },
  {
   "cell_type": "code",
   "execution_count": 5,
   "metadata": {},
   "outputs": [
    {
     "name": "stdout",
     "output_type": "stream",
     "text": [
      "Abstract :  the paper presents a rapid speaker-normalization technique based on neural network spectral mapping. the neural network is used as a front-end of a continuous speech recognition system (speakerdependent, hmm-based) to normalize the input acoustic data from a new speaker. the spectral difference between speakers can be reduced using a limited amount of new acoustic data (40 phonetically rich sentences). recognition error of phone units from the acoustic-phonetic continuous speech corpus apasci is decreased with an adaptability ratio of 25%. we used local basis networks of elliptical gaussian kernels, with recursive allocation of units and on-line optimization of parameters (gran model). for this application, the model included a linear term. the results compare favorably with multivariate linear mapping based on constrained orthonormal transformations.  1\n",
      "Title :  connectionist speaker normalization with generalized resource allocating networks\n",
      "<class 'str'> <class 'str'>\n"
     ]
    }
   ],
   "source": [
    "i = 10\n",
    "print('Abstract : ',abstracts[i])\n",
    "print('Title : ', titles[i])\n",
    "print(type(titles[0]),type(abstracts[0]))"
   ]
  },
  {
   "cell_type": "code",
   "execution_count": 6,
   "metadata": {},
   "outputs": [],
   "source": [
    "def get_vocab(lst):\n",
    "    vocabcount = Counter(w for txt in lst for w in txt.split())\n",
    "    vocab = map(lambda x: x[0], sorted(vocabcount.items(), key=lambda x: -x[1]))\n",
    "    return list(vocab), vocabcount"
   ]
  },
  {
   "cell_type": "code",
   "execution_count": 7,
   "metadata": {},
   "outputs": [
    {
     "name": "stdout",
     "output_type": "stream",
     "text": [
      "Most common words :  ['the', 'of', 'a', 'and', 'to', 'in', 'we', 'for', 'is', 'that', 'on', 'with', 'this', 'learning', 'as', 'are', 'an', 'by', 'our', 'can', 'which', 'from', 'be', 'model', 'algorithm', 'data', 'show', 'using', 'it', 'neural', 'problem', 'models', 'method', 'such', 'these', 'based', 'approach', 'results', 'algorithms', 'new', 'network', 'propose', 'or', 'has', 'networks', 'have', 'methods', 'number', 'between', 'also']\n"
     ]
    }
   ],
   "source": [
    "vocab, vocabcount = get_vocab(titles+abstracts)\n",
    "print(\"Most common words : \", vocab[:50])"
   ]
  },
  {
   "cell_type": "code",
   "execution_count": 8,
   "metadata": {},
   "outputs": [
    {
     "data": {
      "image/png": "[encoded data removed]",
      "text/plain": [
       "<Figure size 432x288 with 1 Axes>"
      ]
     },
     "metadata": {
      "needs_background": "light"
     },
     "output_type": "display_data"
    }
   ],
   "source": [
    "plt.plot([vocabcount[w] for w in vocab]);\n",
    "plt.gca().set_xscale(\"log\", nonposx='clip')\n",
    "plt.gca().set_yscale(\"log\", nonposy='clip')\n",
    "plt.title('word distribution in titles and abstracts')\n",
    "plt.xlabel('rank')\n",
    "plt.ylabel('total appearances');"
   ]
  },
  {
   "cell_type": "code",
   "execution_count": 9,
   "metadata": {},
   "outputs": [
    {
     "name": "stdout",
     "output_type": "stream",
     "text": [
      "Vocabulary length : 38659\n"
     ]
    }
   ],
   "source": [
    "empty = 0 # RNN mask of no data\n",
    "eos = 1  # end of sentence\n",
    "start_idx = eos+1 # first real word\n",
    "\n",
    "def get_idx(vocab, vocabcount):\n",
    "    word2idx = dict((word, idx+start_idx) for idx,word in enumerate(vocab))\n",
    "    word2idx['<empty>'] = empty\n",
    "    word2idx['<eos>'] = eos\n",
    "    \n",
    "    idx2word = dict((idx,word) for word,idx in word2idx.items())\n",
    "\n",
    "    return word2idx, idx2word\n",
    "\n",
    "word2idx, idx2word = get_idx(vocab, vocabcount)\n",
    "print('Vocabulary length :', len(word2idx))\n",
    "vocab_size = len(word2idx)"
   ]
  },
  {
   "cell_type": "code",
   "execution_count": 10,
   "metadata": {},
   "outputs": [
    {
     "name": "stdout",
     "output_type": "stream",
     "text": [
      "../data/glove.6B.100d.txt\n"
     ]
    }
   ],
   "source": [
    "embedding_dim = 100\n",
    "fname = 'glove.6B.%dd.txt'%embedding_dim\n",
    "import os\n",
    "datadir_base = '../'\n",
    "datadir = os.path.join(datadir_base, 'data')\n",
    "glove_name = os.path.join(datadir, fname)\n",
    "print(glove_name)"
   ]
  },
  {
   "cell_type": "code",
   "execution_count": 11,
   "metadata": {},
   "outputs": [],
   "source": [
    "glove_index_dict = {}\n",
    "glove_embedding_weights = np.empty((400000, embedding_dim))\n",
    "global_scale=.1\n",
    "with open(glove_name, 'r',encoding=\"utf8\") as fp:\n",
    "    i = 0\n",
    "    for l in fp:\n",
    "        l = l.strip().split()\n",
    "        w = l[0]\n",
    "        glove_index_dict[w] = i        \n",
    "        glove_embedding_weights[i,:] = [float(x) for x in l[1:]]\n",
    "        i += 1\n",
    "glove_embedding_weights *= global_scale"
   ]
  },
  {
   "cell_type": "code",
   "execution_count": 12,
   "metadata": {},
   "outputs": [],
   "source": [
    "for w,i in glove_index_dict.items():\n",
    "    w = w.lower()\n",
    "    if w not in glove_index_dict:\n",
    "        glove_index_dict[w] = i"
   ]
  },
  {
   "cell_type": "code",
   "execution_count": 13,
   "metadata": {},
   "outputs": [
    {
     "name": "stdout",
     "output_type": "stream",
     "text": [
      "random-embedding/glove scale 0.0706949139514209 std 0.04081470228670095\n",
      "number of tokens, in small vocab, found in glove and copied to embedding 12717 0.32895315450477247\n"
     ]
    }
   ],
   "source": [
    "np.random.seed(seed)\n",
    "shape = (vocab_size, embedding_dim)\n",
    "scale = glove_embedding_weights.std()*np.sqrt(12)/2 # uniform and not normal\n",
    "embedding = np.random.uniform(low=-scale, high=scale, size=shape)\n",
    "print('random-embedding/glove scale', scale, 'std', embedding.std())\n",
    "\n",
    "# copy from glove weights of words that appear in our short vocabulary (idx2word)\n",
    "c = 0\n",
    "for i in range(vocab_size):\n",
    "    w = idx2word[i]\n",
    "    g = glove_index_dict.get(w, glove_index_dict.get(w.lower()))\n",
    "    if g is None and w.startswith('#'): # glove has no hastags (I think...)\n",
    "        w = w[1:]\n",
    "        g = glove_index_dict.get(w, glove_index_dict.get(w.lower()))\n",
    "    if g is not None:\n",
    "        embedding[i,:] = glove_embedding_weights[g,:]\n",
    "        c+=1\n",
    "print('number of tokens, in small vocab, found in glove and copied to embedding', c,c/float(vocab_size))"
   ]
  },
  {
   "cell_type": "code",
   "execution_count": 14,
   "metadata": {},
   "outputs": [],
   "source": [
    "glove_thr = 0.5\n",
    "\n",
    "word2glove = {}\n",
    "for w in word2idx:\n",
    "    if w in glove_index_dict:\n",
    "        g = w\n",
    "    elif w.lower() in glove_index_dict:\n",
    "        g = w.lower()\n",
    "    elif w.startswith('#') and w[1:] in glove_index_dict:\n",
    "        g = w[1:]\n",
    "    elif w.startswith('#') and w[1:].lower() in glove_index_dict:\n",
    "        g = w[1:].lower()\n",
    "    else:\n",
    "        continue\n",
    "    word2glove[w] = g"
   ]
  },
  {
   "cell_type": "code",
   "execution_count": 15,
   "metadata": {},
   "outputs": [
    {
     "name": "stdout",
     "output_type": "stream",
     "text": [
      "# of glove substitutes found 12\n"
     ]
    }
   ],
   "source": [
    "normed_embedding = embedding/np.array([np.sqrt(np.dot(gweight,gweight)) for gweight in embedding])[:,None]\n",
    "\n",
    "nb_unknown_words = 100\n",
    "\n",
    "glove_match = []\n",
    "for w,idx in word2idx.items():    \n",
    "    if idx >= vocab_size-nb_unknown_words and w.isalpha() and w in word2glove:        \n",
    "        gidx = glove_index_dict[word2glove[w]]\n",
    "        gweight = glove_embedding_weights[gidx,:].copy()\n",
    "        # find row in embedding that has the highest cos score with gweight\n",
    "        gweight /= np.sqrt(np.dot(gweight,gweight))\n",
    "        score = np.dot(normed_embedding[:vocab_size-nb_unknown_words], gweight)\n",
    "        while True:\n",
    "            embedding_idx = score.argmax()\n",
    "            s = score[embedding_idx]\n",
    "            if s < glove_thr:\n",
    "                break\n",
    "            if idx2word[embedding_idx] in word2glove :\n",
    "                glove_match.append((w, embedding_idx, s)) \n",
    "                break\n",
    "            score[embedding_idx] = -1\n",
    "glove_match.sort(key = lambda x: -x[2])\n",
    "print('# of glove substitutes found', len(glove_match))"
   ]
  },
  {
   "cell_type": "code",
   "execution_count": 16,
   "metadata": {},
   "outputs": [
    {
     "name": "stdout",
     "output_type": "stream",
     "text": [
      "0.876881126468972 helping => help\n",
      "0.8451216562201643 buildings => building\n",
      "0.7805469306151109 inaccuracies => inconsistencies\n",
      "0.7456739371234078 richard => j.\n",
      "0.7280355244514656 iron => metal\n",
      "0.662634700972244 stem => cells\n",
      "0.6553164470513101 sejnowski => hovland\n",
      "0.6463356619773969 incrementing => randomizing\n",
      "0.5650256863150407 qualia => schemata\n",
      "0.5453632270853437 equipments => machinery\n",
      "0.5391948958328436 stratum => layer\n",
      "0.5207077463433016 polysilicon => multilayer\n"
     ]
    }
   ],
   "source": [
    "for orig, sub, score in glove_match:\n",
    "    print(score, orig,'=>', idx2word[sub])"
   ]
  },
  {
   "cell_type": "code",
   "execution_count": 17,
   "metadata": {},
   "outputs": [
    {
     "name": "stdout",
     "output_type": "stream",
     "text": [
      "4659\n"
     ]
    },
    {
     "data": {
      "text/plain": [
       "Text(0.5, 0, 'Length of Sentences in titles')"
      ]
     },
     "execution_count": 17,
     "metadata": {},
     "output_type": "execute_result"
    },
    {
     "data": {
      "image/png": "[encoded data removed]",
      "text/plain": [
       "<Figure size 432x288 with 1 Axes>"
      ]
     },
     "metadata": {
      "needs_background": "light"
     },
     "output_type": "display_data"
    }
   ],
   "source": [
    "glove_idx2idx = dict((word2idx[w],embedding_idx) for  w, embedding_idx, _ in glove_match)\n",
    "Y = [[word2idx[token] for token in title.split()] for title in titles]\n",
    "print(len(Y))\n",
    "plt.hist([len(p) for p in Y],bins=50);\n",
    "plt.xlabel('Length of Sentences in titles')"
   ]
  },
  {
   "cell_type": "code",
   "execution_count": 18,
   "metadata": {},
   "outputs": [
    {
     "data": {
      "text/plain": [
       "Text(0.5, 0, 'Length of Sentences in abstracts')"
      ]
     },
     "execution_count": 18,
     "metadata": {},
     "output_type": "execute_result"
    },
    {
     "data": {
      "image/png": "[encoded data removed]",
      "text/plain": [
       "<Figure size 432x288 with 1 Axes>"
      ]
     },
     "metadata": {
      "needs_background": "light"
     },
     "output_type": "display_data"
    }
   ],
   "source": [
    "X = [[word2idx[token] for token in a.split()] for a in abstracts]\n",
    "len(X)\n",
    "plt.hist([len(p) for p in X],bins=50)\n",
    "plt.xlabel('Length of Sentences in abstracts')"
   ]
  },
  {
   "cell_type": "code",
   "execution_count": 19,
   "metadata": {},
   "outputs": [],
   "source": [
    "import pickle\n",
    "pickle_path = '../data'\n",
    "FN = 'embeddings.pkl'\n",
    "with open(os.path.join(pickle_path,FN),'wb') as fp:\n",
    "    pickle.dump((embedding, idx2word, word2idx, glove_idx2idx),fp,-1)"
   ]
  },
  {
   "cell_type": "code",
   "execution_count": 20,
   "metadata": {},
   "outputs": [],
   "source": [
    "FN = 'data.pkl'\n",
    "with open(os.path.join(pickle_path,FN),'wb') as fp:\n",
    "    pickle.dump((X,Y),fp,-1)"
   ]
  },
  {
   "cell_type": "code",
   "execution_count": 21,
   "metadata": {},
   "outputs": [
    {
     "name": "stdout",
     "output_type": "stream",
     "text": [
      "[18, 75, 34, 3, 2474, 1076, 2861, 10, 66, 1385, 13, 213, 6, 1162, 17650, 802, 2, 66, 2861, 21, 5217, 138, 160, 13, 152, 2628, 7, 2, 121, 3346, 773, 3, 17651, 18, 26, 3, 4250, 10, 2375, 23, 18, 2671, 3, 6032, 30, 1058, 4, 41, 2224, 3, 31, 668, 7, 2, 1349, 3346, 9805, 18, 1562, 6, 2101, 4504, 193, 5, 11, 6, 18, 3093, 2662, 1162, 174, 17, 7359] [4250, 3, 1076, 1671, 5, 67, 213]\n",
      "Sentence :  ['an', 'efficient', 'method', 'of', 'self-organizing', 'associative', 'databases', 'is', 'proposed', 'together', 'with', 'applications', 'to', 'robot', 'eyesight', 'systems.', 'the', 'proposed', 'databases', 'can', 'associate', 'any', 'input', 'with', 'some', 'output.', 'in', 'the', 'first', 'half', 'part', 'of', 'discussion,', 'an', 'algorithm', 'of', 'self-organization', 'is', 'proposed.', 'from', 'an', 'aspect', 'of', 'hardware,', 'it', 'produces', 'a', 'new', 'style', 'of', 'neural', 'network.', 'in', 'the', 'latter', 'half', 'part,', 'an', 'applicability', 'to', 'handwritten', 'letter', 'recognition', 'and', 'that', 'to', 'an', 'autonomous', 'mobile', 'robot', 'system', 'are', 'demonstrated.']\n",
      "Summary :  ['self-organization', 'of', 'associative', 'database', 'and', 'its', 'applications']\n"
     ]
    }
   ],
   "source": [
    "print(X[0],Y[0])\n",
    "print(\"Sentence : \",  [idx2word[p] for p in X[0]])\n",
    "print(\"Summary : \", [idx2word[p] for p in Y[0]])"
   ]
  },
  {
   "cell_type": "markdown",
   "metadata": {},
   "source": [
    "#### Training"
   ]
  },
  {
   "cell_type": "code",
   "execution_count": 22,
   "metadata": {},
   "outputs": [],
   "source": [
    "K.clear_session()"
   ]
  },
  {
   "cell_type": "code",
   "execution_count": 23,
   "metadata": {},
   "outputs": [
    {
     "name": "stdout",
     "output_type": "stream",
     "text": [
      "Number of training samples:  3354\n",
      "Number of validation samples:  372\n",
      "Number of test samples:  932\n",
      "Number of training batches:  1677\n",
      "Number of validation batches:  186\n",
      "Total entries:  3726\n"
     ]
    }
   ],
   "source": [
    "p_W, p_U, p_dense, p_emb, weight_decay = 0, 0, 0, 0, 0\n",
    "LR = 1e-4\n",
    "batch_size = 2\n",
    "\n",
    "def clip_to_batch(data, batch_size):\n",
    "    data = data[0:len(data)-len(data)%batch_size]\n",
    "    return data\n",
    "\n",
    "# split data into train, validation, and test set\n",
    "trainX, testX, trainY, testY = train_test_split(X, Y, test_size= 0.2 , random_state=seed)\n",
    "trainX, valX, trainY, valY = train_test_split(trainX, trainY, test_size = 0.1 , random_state = seed)\n",
    "\n",
    "trainX = clip_to_batch(trainX, batch_size)\n",
    "trainY = clip_to_batch(trainY, batch_size)\n",
    "valX = clip_to_batch(valX, batch_size)\n",
    "valY = clip_to_batch(valY, batch_size)\n",
    "testX = clip_to_batch(testX, batch_size)\n",
    "testY = clip_to_batch(testY, batch_size)\n",
    "print('Number of training samples: ', len(trainX))\n",
    "print('Number of validation samples: ', len(valX))\n",
    "print('Number of test samples: ', len(testX))\n",
    "\n",
    "num_train_batches = len(trainX) // batch_size\n",
    "num_val_samples = len(valX)\n",
    "num_val_batches = len(valX) // batch_size\n",
    "total_entries = (num_train_batches + num_val_batches)*batch_size\n",
    "print('Number of training batches: ', num_train_batches)\n",
    "print('Number of validation batches: ', num_val_batches)\n",
    "print('Total entries: ', total_entries)\n",
    "\n",
    "#maximum length for title \n",
    "# tMaxLen = 20\n",
    "tMaxLen = 250\n",
    "#maximum length for abstract\n",
    "aMaxLen = 250\n",
    "#total maximum length\n",
    "maxlen = tMaxLen + aMaxLen\n",
    "oov0 = vocab_size-nb_unknown_words\n",
    "\n",
    "batch_norm=False\n",
    "\n",
    "nUnique = embedding.shape[0]\n",
    "hidden_units= embedding.shape[1]\n",
    "\n",
    "learning_rate = 0.002\n",
    "clip_norm = 1.0\n",
    "val_samples = 300\n",
    "regularizer = l2(weight_decay) if weight_decay else None"
   ]
  },
  {
   "cell_type": "code",
   "execution_count": 24,
   "metadata": {},
   "outputs": [],
   "source": [
    "#padding function for abstracts\n",
    "def padAbstract(x, maxL = aMaxLen, dictionary = word2idx):\n",
    "    n = len(x)\n",
    "    if n > maxL:\n",
    "        x = x[-maxL:]\n",
    "        n = maxL\n",
    "    return [dictionary['_']]*(maxL - n) + x + [dictionary['*']]\n",
    "\n",
    "#build generator for model\n",
    "def generator(trainX, trainY, batch_size = batch_size, \n",
    "              nb_batches = None, model = None, seed = seed):\n",
    "    \n",
    "    #UNDERSTAND THIS\n",
    "    c = nb_batches if nb_batches else 0\n",
    "    while True:\n",
    "        titles = list()\n",
    "        abstracts = list()\n",
    "        if nb_batches and c >= nb_batches:\n",
    "            c = 0\n",
    "        new_seed = random.randint(0, sys.maxsize)\n",
    "        random.seed(c+123456789+seed)\n",
    "        \n",
    "        for b in range(batch_size):\n",
    "            a = random.randint(0,len(trainX)-1)\n",
    "            \n",
    "            #random shuffling of data\n",
    "            abstract = trainX[a]\n",
    "            s = random.randint(min(aMaxLen,len(abstract)), max(aMaxLen,len(abstract)))\n",
    "            abstracts.append(abstract[:s])\n",
    "            \n",
    "            title = trainY[a]\n",
    "            s = random.randint(min(tMaxLen,len(title)), max(tMaxLen,len(title)))\n",
    "            titles.append(title[:s])\n",
    "\n",
    "        # undo the seeding before we yield in order not to affect the caller\n",
    "        c+= 1\n",
    "        random.seed(new_seed)\n",
    "\n",
    "        yield conv_seq_labels(abstracts, titles)\n",
    "\n",
    "#pad sequence and convert title to labels\n",
    "def conv_seq_labels(abstracts, titles, nflips = None, model = None, dictionary = word2idx):\n",
    "    \"\"\"abstract and titles are converted to padded input vectors. Titles are one-hot encoded to labels.\"\"\"\n",
    "    batch_size = len(titles)\n",
    "    \n",
    "    x = [padAbstract([a+t]) for a,t in zip(abstracts, titles)] \n",
    "    x = sequence.pad_sequences(x, maxlen = tMaxLen, value = dictionary['_'], \n",
    "                               padding = 'post', truncating = 'post')\n",
    "        \n",
    "    y = np.zeros((batch_size, tMaxLen, nUnique))\n",
    "    for i, it in enumerate(titles):\n",
    "        it = it + [dictionary['*']] + [dictionary['_']]*tMaxLen  # output does have a eos at end\n",
    "        it = it[:tMaxLen]\n",
    "        y[i,:,:] = np_utils.to_categorical(it, nUnique)\n",
    "        \n",
    "    #The 3 inputs are abstract, title starting with eos and a one-hot encoding of the title categorical variables.\n",
    "    return [x[:,:aMaxLen],x[:,aMaxLen:]], y"
   ]
  },
  {
   "cell_type": "code",
   "execution_count": 25,
   "metadata": {},
   "outputs": [],
   "source": [
    "def lpadd(x, maxlend=tMaxLen, eos=eos):\n",
    "    assert maxlend >= 0\n",
    "    if maxlend == 0:\n",
    "        return [eos]\n",
    "    n = len(x)\n",
    "    if n > maxlend:\n",
    "        x = x[-maxlend:]\n",
    "        n = maxlend\n",
    "    return [empty]*(maxlend-n) + x + [eos]"
   ]
  },
  {
   "cell_type": "code",
   "execution_count": 26,
   "metadata": {},
   "outputs": [],
   "source": [
    "def vocab_fold(xs):\n",
    "    xs = [x if x < oov0 else glove_idx2idx.get(x,x) for x in xs]\n",
    "    # the more popular word is <0> and so on\n",
    "    outside = sorted([x for x in xs if x >= oov0])\n",
    "    # if there are more than nb_unknown_words oov words then put them all in nb_unknown_words-1\n",
    "    outside = dict((x,vocab_size-1-min(i, nb_unknown_words-1)) for i, x in enumerate(outside))\n",
    "    xs = [outside.get(x,x) for x in xs]\n",
    "    return xs\n",
    "\n",
    "def vocab_unfold(desc,xs):\n",
    "    # assume desc is the unfolded version of the start of xs\n",
    "    unfold = {}\n",
    "    for i, unfold_idx in enumerate(desc):\n",
    "        fold_idx = xs[i]\n",
    "        if fold_idx >= vocab_size-nb_unknown_words:\n",
    "            unfold[fold_idx] = unfold_idx\n",
    "    return [unfold.get(x,x) for x in xs]"
   ]
  },
  {
   "cell_type": "code",
   "execution_count": 28,
   "metadata": {},
   "outputs": [],
   "source": [
    "def gen(Xd, Xh, batch_size=batch_size, nb_batches=None, model=None, seed=seed):\n",
    "    c = nb_batches if nb_batches else 0\n",
    "    while True:\n",
    "        xds = []\n",
    "        xhs = []\n",
    "        if nb_batches and c >= nb_batches:\n",
    "            c = 0\n",
    "        new_seed = random.randint(0, sys.maxsize)\n",
    "        random.seed(c+123456789+seed)\n",
    "        for b in range(batch_size):\n",
    "            t = random.randint(0,len(Xd)-1)\n",
    "            \n",
    "            #random shuffling of data\n",
    "            xd = Xd[t]\n",
    "            s = random.randint(min(aMaxLen,len(xd)), max(aMaxLen,len(xd)))\n",
    "            xds.append(xd[:s])\n",
    "            \n",
    "            xh = Xh[t]\n",
    "            s = random.randint(min(tMaxLen,len(xh)), max(tMaxLen,len(xh)))\n",
    "            xhs.append(xh[:s])\n",
    "\n",
    "        # undo the seeding before we yield inorder not to affect the caller\n",
    "        c+= 1\n",
    "        random.seed(new_seed)\n",
    "\n",
    "        yield conv_seq_labels(xds, xhs)\n",
    "\n",
    "def conv_seq_labels(xds, xhs, nflips=None, model=None):\n",
    "    \"\"\"description and hedlines are converted to padded input vectors. headlines are one-hot to label\"\"\"\n",
    "    batch_size = len(xhs)\n",
    "    \n",
    "    x = [vocab_fold(lpadd(xd)+xh) for xd,xh in zip(xds,xhs)]  # the input does not have 2nd eos\n",
    "    x = sequence.pad_sequences(x, maxlen=maxlen, value= word2idx['_'], padding='post', truncating='post')\n",
    "        \n",
    "    y = np.zeros((batch_size, tMaxLen, vocab_size))\n",
    "    for i, xh in enumerate(xhs):\n",
    "        xh = vocab_fold(xh) + [eos] + [empty]*tMaxLen  # output does have a eos at end\n",
    "        xh = xh[:tMaxLen]\n",
    "        y[i,:,:] = np_utils.to_categorical(xh, vocab_size)\n",
    "        \n",
    "    #The 3 inputs are description, summary starting with eos and a one-hot encoding of the summary categoricals\n",
    "    return [x[:,:aMaxLen],x[:,tMaxLen:]], y"
   ]
  },
  {
   "cell_type": "code",
   "execution_count": 29,
   "metadata": {},
   "outputs": [
    {
     "name": "stdout",
     "output_type": "stream",
     "text": [
      "(2, 250) (2, 250) (2, 250, 38659)\n",
      "Description  :  ['<empty>', '<empty>', '<empty>', '<empty>', '<empty>', '<empty>', '<empty>', '<empty>', '<empty>', '<empty>', '<empty>', '<empty>', '<empty>', '<empty>', '<empty>', '<empty>', '<empty>', '<empty>', '<empty>', '<empty>', '<empty>', '<empty>', '<empty>', '<empty>', '<empty>', '<empty>', '<empty>', '<empty>', '<empty>', '<empty>', '<empty>', '<empty>', '<empty>', '<empty>', '<empty>', '<empty>', '<empty>', '<empty>', '<empty>', '<empty>', '<empty>', '<empty>', '<empty>', '<empty>', '<empty>', '<empty>', '<empty>', '<empty>', '<empty>', '<empty>', '<empty>', '<empty>', '<empty>', '<empty>', '<empty>', '<empty>', '<empty>', '<empty>', '<empty>', '<empty>', '<empty>', '<empty>', '<empty>', '<empty>', '<empty>', '<empty>', '<empty>', '<empty>', '<empty>', '<empty>', '<empty>', '<empty>', '<empty>', '<empty>', '<empty>', '<empty>', '<empty>', '<empty>', 'we', 'consider', 'the', 'problem', 'of', 'estimating', 'neural', 'spikes', 'from', 'extracellular', 'voltage', 'recordings.', 'most', 'current', 'methods', 'are', 'based', 'on', 'clustering,', 'which', 'requires', 'substantial', 'human', 'supervision', 'and', 'produces', 'systematic', 'errors', 'by', 'failing', 'to', 'properly', 'handle', 'temporally', 'overlapping', 'spikes.', 'we', 'formulate', 'the', 'problem', 'as', 'one', 'of', 'statistical', 'inference,', 'in', 'which', 'the', 'recorded', 'voltage', 'is', 'a', 'noisy', 'sum', 'of', 'the', 'spike', 'trains', 'of', 'each', 'neuron', 'convolved', 'with', 'its', 'associated', 'spike', 'waveform.', 'joint', 'maximum-a-posteriori', '(map)', 'estimation', 'of', 'the', 'waveforms', 'and', 'spikes', 'is', 'then', 'a', 'blind', 'deconvolution', 'problem', 'in', 'which', 'the', 'coefficients', 'are', 'sparse.', 'we', 'develop', 'a', 'block-coordinate', 'descent', 'method', 'for', 'approximating', 'the', 'map', 'solution.', 'we', 'validate', 'our', 'method', 'on', 'data', 'simulated', 'according', 'to', 'the', 'generative', 'model,', 'as', 'well', 'as', 'on', 'real', 'data', 'for', 'which', 'ground', 'truth', 'is', 'available', 'via', 'simultaneous', 'intracellular', 'recordings.', 'in', 'both', 'cases,', 'our', 'method', 'substantially', 'reduces', 'the', 'number', 'of', 'missed', 'spikes', 'and', 'false', 'positives', 'when', 'compared', 'to', 'a', 'standard', 'clustering', 'algorithm,', 'primarily', 'by', 'recovering', 'temporally', 'overlapping', 'spikes.', 'the', 'method', 'offers', 'a', 'fully', 'automated', 'alternative', 'to', 'clustering', 'methods', 'that', 'is', 'less', 'susceptible', 'to', 'systematic', 'errors.']\n",
      "Summary  :  ['<empty>', '<empty>', '<empty>', '<empty>', '<empty>', '<empty>', '<empty>', '<empty>', '<empty>', '<empty>', '<empty>', '<empty>', '<empty>', '<empty>', '<empty>', '<empty>', '<empty>', '<empty>', '<empty>', '<empty>', '<empty>', '<empty>', '<empty>', '<empty>', '<empty>', '<empty>', '<empty>', '<empty>', '<empty>', '<empty>', '<empty>', '<empty>', '<empty>', '<empty>', '<empty>', '<empty>', '<empty>', '<empty>', '<empty>', '<empty>', '<empty>', '<empty>', '<empty>', '<empty>', '<empty>', '<empty>', '<empty>', '<empty>', '<empty>', '<empty>', '<empty>', '<empty>', 'many', 'fundamental', 'questions', 'in', 'theoretical', 'neuroscience', 'involve', 'optimal', 'decoding', 'and', 'the', 'computation', 'of', 'shannon', 'information', 'rates', 'in', 'populations', 'of', 'spiking', 'neurons.', 'in', 'this', 'paper,', 'we', 'apply', 'methods', 'from', 'the', 'asymptotic', 'theory', 'of', 'statistical', 'inference', 'to', 'obtain', 'a', 'clearer', 'analytical', 'understanding', 'of', 'these', 'quantities.', 'we', 'find', 'that', 'for', 'large', 'neural', 'populations', 'carrying', 'a', 'finite', 'total', 'amount', 'of', 'information,', 'the', 'full', 'spiking', 'population', 'response', 'is', 'asymptotically', 'as', 'informative', 'as', 'a', 'single', 'observation', 'from', 'a', 'gaussian', 'process', 'whose', 'mean', 'and', 'covariance', 'can', 'be', 'characterized', 'explicitly', 'in', 'terms', 'of', 'network', 'and', 'single', 'neuron', 'properties.', 'the', 'gaussian', 'form', 'of', 'this', 'asymptotic', 'sufficient', 'statistic', 'allows', 'us', 'in', 'certain', 'cases', 'to', 'perform', 'optimal', 'bayesian', 'decoding', 'by', 'simple', 'linear', 'transformations,', 'and', 'to', 'obtain', 'closed-form', 'expressions', 'of', 'the', 'shannon', 'information', 'carried', 'by', 'the', 'network.', 'one', 'technical', 'advantage', 'of', 'the', 'theory', 'is', 'that', 'it', 'may', 'be', 'applied', 'easily', 'even', 'to', 'non-poisson', 'point', 'process', 'network', 'models;', 'for', 'example,', 'we', 'find', 'that', 'under', 'some', 'conditions,', 'neural', 'populations', 'with', 'strong', 'history-dependent', '(non-poisson)', 'effects', 'carry', 'exactly', 'the', 'same', 'information', 'as', 'do', 'simpler', 'equivalent', 'populations', 'of', 'non-interacting', 'poisson', 'neurons', 'with', 'matched', 'firing', 'rates.', 'we', 'argue', 'that', 'our', 'findings', 'help', 'to', 'clarify', 'some', 'results', 'from', 'the', 'recent', 'literature', 'on', 'neural', 'decoding', 'and', 'neuroprosthetic', 'design.']\n"
     ]
    }
   ],
   "source": [
    "#check generator\n",
    "r = next(gen(trainX, trainY, batch_size=batch_size))\n",
    "print(r[0][0].shape,r[0][1].shape,r[1].shape)\n",
    "print(\"Description  : \", [idx2word[k] for k in r[0][0][0]])\n",
    "print(\"Summary  : \", [idx2word[k] for k in r[0][0][1]])"
   ]
  },
  {
   "cell_type": "code",
   "execution_count": 30,
   "metadata": {},
   "outputs": [],
   "source": [
    "#generator for training and validation\n",
    "genTrain = gen(trainX, trainY, batch_size = batch_size)\n",
    "genVal =  gen(valX, valY, nb_batches = len(valX)// batch_size, batch_size = batch_size)"
   ]
  },
  {
   "cell_type": "code",
   "execution_count": 31,
   "metadata": {},
   "outputs": [],
   "source": [
    "#encoder\n",
    "def getModel(genTrain, genVal, embeddMatrix=embedding, learning_rate=learning_rate, \n",
    "             clip_norm=clip_norm, encoder_shape = aMaxLen, decoder_shape = tMaxLen, \n",
    "             nUnique = vocab_size, embeddDim = embedding_dim, hidden_units = hidden_units):\n",
    "    \n",
    "    #ENCODER\n",
    "    #input shape as the vector of sequence, with length padded to 250\n",
    "    encoder_inputs = Input(shape = (encoder_shape, ), name = 'encoder_input')\n",
    "    \n",
    "    encoder_embedding = Embedding(nUnique, embeddDim, \n",
    "                                  input_length = encoder_shape, \n",
    "                                  weights = [embeddMatrix],\n",
    "                                  mask_zero = True,\n",
    "                                  name = 'encoder_embedd')(encoder_inputs)\n",
    "    \n",
    "    encoder_lstm = Bidirectional(LSTM(hidden_units, dropout = 0.2, recurrent_dropout=0.2, return_state=True))\n",
    "    \n",
    "    encoder_outputs, f_h, f_c, b_h, b_c = encoder_lstm(encoder_embedding)\n",
    "    \n",
    "    state_hfinal=Add()([f_h, b_h])\n",
    "    state_cfinal=Add()([f_c, b_c])\n",
    "    \n",
    "    encoder_states = [state_hfinal,state_cfinal]\n",
    "        \n",
    "    #DECODER\n",
    "    decoder_inputs = Input(shape = (decoder_shape, ), name = 'decoder_input')\n",
    "    \n",
    "    decoder_embedding = Embedding(nUnique, embeddDim, \n",
    "                                  input_length = decoder_shape, \n",
    "                                  weights = [embeddMatrix],\n",
    "                                  mask_zero = True,\n",
    "                                  name = 'decoder_embedd')\n",
    "    \n",
    "    decoder_lstm = LSTM(hidden_units, return_sequences = True, return_state=True)\n",
    "    \n",
    "    decoder_outputs, s_h, s_c = decoder_lstm(decoder_embedding(decoder_inputs), initial_state = encoder_states)    \n",
    "    decoder_dense = Dense(decoder_shape, activation='linear')\n",
    "    decoder_time_distributed = TimeDistributed(Dense(nUnique,\n",
    "                                                     name = 'decoder_timedistributed'))\n",
    "    decoder_activation = Activation('softmax', name = 'decoder_activation')\n",
    "    decoder_outputs = decoder_activation(decoder_time_distributed(decoder_outputs))\n",
    "    \n",
    "    #MODEL\n",
    "    model = Model(inputs = [encoder_inputs,decoder_inputs], outputs = decoder_outputs) \n",
    "    rmsprop = RMSprop(lr = learning_rate, clipnorm = clip_norm)\n",
    "    model.compile(loss = 'categorical_crossentropy',optimizer = rmsprop)\n",
    "    \n",
    "    #ENCODER MODEL\n",
    "    encoder_model = Model(encoder_inputs,encoder_states)\n",
    "    \n",
    "    #DECODER MODEL\n",
    "    decoder_state_inputs_h = Input(shape=(hidden_units,))\n",
    "    decoder_state_inputs_c = Input(shape=(hidden_units,)) \n",
    "    decoder_state_inputs = [decoder_state_inputs_h, decoder_state_inputs_c]\n",
    "    decoder_outputs, decoder_state_h, decoder_state_c = decoder_lstm(decoder_embedding(decoder_inputs),\n",
    "                                                                     initial_state = decoder_state_inputs)\n",
    "    decoder_states = [decoder_state_h, decoder_state_c]\n",
    "    decoder_outputs = decoder_dense(decoder_outputs)\n",
    "    \n",
    "    decoder_model = Model([decoder_inputs] + decoder_state_inputs,\n",
    "                          [decoder_outputs] + decoder_states)\n",
    "    \n",
    "    return model, encoder_model, decoder_model"
   ]
  },
  {
   "cell_type": "code",
   "execution_count": 32,
   "metadata": {},
   "outputs": [],
   "source": [
    "def saveModels(models,names):\n",
    "    path = '../models'\n",
    "    for i in range(len(names)):\n",
    "        models[i].save(os.path.join(path,names[i]))"
   ]
  },
  {
   "cell_type": "code",
   "execution_count": 33,
   "metadata": {},
   "outputs": [],
   "source": [
    "K.clear_session()\n",
    "model, encoder, decoder = getModel(genTrain,genVal)\n",
    "# saveModels([model,encoder,decoder],['att_model','att_encoder','att_decoder'])"
   ]
  },
  {
   "cell_type": "code",
   "execution_count": 34,
   "metadata": {},
   "outputs": [
    {
     "name": "stdout",
     "output_type": "stream",
     "text": [
      "__________________________________________________________________________________________________\n",
      "Layer (type)                    Output Shape         Param #     Connected to                     \n",
      "==================================================================================================\n",
      "encoder_input (InputLayer)      (None, 250)          0                                            \n",
      "__________________________________________________________________________________________________\n",
      "encoder_embedd (Embedding)      (None, 250, 100)     3865900     encoder_input[0][0]              \n",
      "__________________________________________________________________________________________________\n",
      "decoder_input (InputLayer)      (None, 250)          0                                            \n",
      "__________________________________________________________________________________________________\n",
      "bidirectional_1 (Bidirectional) [(None, 200), (None, 160800      encoder_embedd[0][0]             \n",
      "__________________________________________________________________________________________________\n",
      "decoder_embedd (Embedding)      (None, 250, 100)     3865900     decoder_input[0][0]              \n",
      "__________________________________________________________________________________________________\n",
      "add_1 (Add)                     (None, 100)          0           bidirectional_1[0][1]            \n",
      "                                                                 bidirectional_1[0][3]            \n",
      "__________________________________________________________________________________________________\n",
      "add_2 (Add)                     (None, 100)          0           bidirectional_1[0][2]            \n",
      "                                                                 bidirectional_1[0][4]            \n",
      "__________________________________________________________________________________________________\n",
      "lstm_2 (LSTM)                   [(None, 250, 100), ( 80400       decoder_embedd[0][0]             \n",
      "                                                                 add_1[0][0]                      \n",
      "                                                                 add_2[0][0]                      \n",
      "__________________________________________________________________________________________________\n",
      "time_distributed_1 (TimeDistrib (None, 250, 38659)   3904559     lstm_2[0][0]                     \n",
      "__________________________________________________________________________________________________\n",
      "decoder_activation (Activation) (None, 250, 38659)   0           time_distributed_1[0][0]         \n",
      "==================================================================================================\n",
      "Total params: 11,877,559\n",
      "Trainable params: 11,877,559\n",
      "Non-trainable params: 0\n",
      "__________________________________________________________________________________________________\n"
     ]
    }
   ],
   "source": [
    "model.summary()"
   ]
  },
  {
   "cell_type": "code",
   "execution_count": 36,
   "metadata": {},
   "outputs": [],
   "source": [
    "# model.fit_generator(genTrain, steps_per_epoch = 100, epochs=5, validation_data = genVal,validation_steps = 20)\n",
    "# save_weights('../weights')"
   ]
  },
  {
   "cell_type": "code",
   "execution_count": 35,
   "metadata": {},
   "outputs": [],
   "source": [
    "def load_weights(folder):\n",
    "    model.load_weights(folder + '/model.w')\n",
    "    encoder.load_weights(folder + '/encoder.w')\n",
    "    decoder.load_weights(folder + '/decoder.w')\n",
    "    \n",
    "def save_weights(folder):\n",
    "    if not os.path.isdir(folder):\n",
    "        os.mkdir(folder)\n",
    "    model.save_weights(folder + '/model.w')\n",
    "    encoder.save_weights(folder + '/encoder.w')\n",
    "    decoder.save_weights(folder + '/decoder.w')"
   ]
  },
  {
   "cell_type": "code",
   "execution_count": 37,
   "metadata": {},
   "outputs": [],
   "source": [
    "load_weights('../weights')"
   ]
  },
  {
   "cell_type": "code",
   "execution_count": 38,
   "metadata": {},
   "outputs": [],
   "source": [
    "def getPredictions(model, seq, maxLen, num_iteration, idx2word):\n",
    "    '''\n",
    "    Prediction for a given sequence. \n",
    "    \n",
    "    Parameters:\n",
    "    ===========\n",
    "    1)model: rnn model\n",
    "    2)seq: a single abstract, should be a vector of length 250\n",
    "    3)maxLen: maximum length of predicted title\n",
    "    4)idx2word: dictionary for index to word\n",
    "    '''\n",
    "    \n",
    "    #cache list of prediction\n",
    "    prediction = list()\n",
    "    #initiate title to be a vector of zeros\n",
    "    init = np.zeros(maxLen)\n",
    "    \n",
    "    #for maximum prediction length\n",
    "    for i in range(num_iteration):\n",
    "        #get prediction probabilities for all unique words\n",
    "        predRNN = model.predict([np.reshape(seq, (1, 250)), init.reshape(1, 250)])\n",
    "        #greedy mode prediction\n",
    "        #update next title vector to be the predicted vector\n",
    "        init = np.argmax(predRNN, axis = 2)\n",
    "        #get probabilities of all unique words\n",
    "        pVec = predRNN[0, 0, :]\n",
    "        #get the word with maximum predicted probability as the predicted words\n",
    "        idx = np.argmax(pVec)\n",
    "        #index to word\n",
    "        word = idx2word[idx]\n",
    "        #if eos tag is predicted\n",
    "        #break out of loop\n",
    "        if idx == 1:\n",
    "            break\n",
    "        prediction.append(word)\n",
    "    return prediction"
   ]
  },
  {
   "cell_type": "code",
   "execution_count": 39,
   "metadata": {},
   "outputs": [
    {
     "name": "stdout",
     "output_type": "stream",
     "text": [
      "['universal', 'consistency', 'of', 'multi-class', 'support', 'vector', 'classification']\n",
      "['_', '_', '_', '_', '_', '_', '_', '_', '_', '_', '_', '_', '_', '_', '_', '_', '_', '_', '_', '_', '_', '_', '_', '_', '_', '_', '_', '_', '_', '_', '_', '_', '_', '_', '_', '_', '_', '_', '_', '_', '_', '_', '_', '_', '_', '_', '_', '_', '_', '_', '_', '_', '_', '_', '_', '_', '_', '_', '_', '_', '_', '_', '_', '_', '_', '_', '_', '_', '_', '_', '_', '_', '_', '_', '_', '_', '_', '_', '_', '_', '_', '_', '_', '_', '_', '_', '_', '_', '_', '_', '_', '_', '_', '_', '_', '_', '_', '_', '_', '_', '_', '_', '_', '_', '_', '_', '_', '_', '_', '_', '_', '_', '_', '_', '_', '_', '_', '_', '_', '_', '_', '_', '_', '_', '_', '_', '_', '_', '_', '_', '_', '_', '_', '_', '_', '_', '_', '_', '_', '_', '_', '_', '_', '_', '_', '_', '_', '_', '_', '_', '_', '_', '_', '_', '_', '_', '_', '_', '_', '_', '_', '_', '_', '_', '_', '_', '_', '_', '_', '_', '_', 'steinwart', 'was', 'the', '?rst', 'to', 'prove', 'universal', 'consistency', 'of', 'support', 'vector', 'machine', 'classi?cation.', 'his', 'proof', 'analyzed', 'the', '?standard?', 'support', 'vector', 'machine', 'classi?er,', 'which', 'is', 'restricted', 'to', 'binary', 'classi?cation', 'problems.', 'in', 'contrast,', 'recent', 'analysis', 'has', 'resulted', 'in', 'the', 'common', 'belief', 'that', 'several', 'extensions', 'of', 'svm', 'classi?cation', 'to', 'more', 'than', 'two', 'classes', 'are', 'inconsistent.', 'countering', 'this', 'belief,', 'we', 'proof', 'the', 'universal', 'consistency', 'of', 'the', 'multi-class', 'support', 'vector', 'machine', 'by', 'crammer', 'and', 'singer.', 'our', 'proof', 'extends', 'steinwart?s', 'techniques', 'to', 'the', 'multi-class', 'case.']\n",
      "['for', 'a', 'a', 'a', 'a', 'a', 'a', 'a', 'a', 'a', 'a', 'a', 'a', 'a', 'a', 'a', 'a', 'a', 'a', 'a']\n"
     ]
    }
   ],
   "source": [
    "#check prediction \n",
    "check = testX.copy()\n",
    "check = sequence.pad_sequences(check, 250, value = word2idx['_'], padding = 'pre')\n",
    "\n",
    "ind=0\n",
    "print([idx2word[m] for m in testY[ind]])\n",
    "print([idx2word[m] for m in check[ind]])\n",
    "check_pred = getPredictions(model, check[ind], 250, 20, idx2word)\n",
    "print(check_pred)"
   ]
  },
  {
   "cell_type": "markdown",
   "metadata": {},
   "source": [
    "#### Beam Search"
   ]
  },
  {
   "cell_type": "code",
   "execution_count": 40,
   "metadata": {},
   "outputs": [],
   "source": [
    "def keras_rnn_predict(samples, empty=empty, model=model, maxlen=maxlen):\n",
    "    \"\"\"for every sample, calculate probability for every possible label\n",
    "    you need to supply your RNN model and maxlen - the length of sequences it can handle\n",
    "    \"\"\"\n",
    "    sample_lengths = map(len, samples)\n",
    "    assert all(l > aMaxLen for l in sample_lengths)\n",
    "    assert all(l[aMaxLen] == eos for l in samples)\n",
    "    # pad from right (post) so the first maxlend will be description followed by headline\n",
    "    data = sequence.pad_sequences(samples, maxlen=maxlen, value=empty, padding='post', truncating='post')\n",
    "    data1 = data[0][0:250]\n",
    "    data2 = data[0][250:]\n",
    "    probs = model.predict([np.reshape(data1, (1, 250)), data2.reshape(1, 250)])[0][0]\n",
    "    softmax = [output2probs(prob[sample_length-maxlend-1]) for prob, sample_length in zip(probs, sample_lengths)]\n",
    "    softmax = probs.reshape(1,-1)\n",
    "    return np.array(softmax)"
   ]
  },
  {
   "cell_type": "code",
   "execution_count": 41,
   "metadata": {},
   "outputs": [],
   "source": [
    "def beamsearch(predict, start=[empty]*aMaxLen + [eos], avoid=None, avoid_score=1,\n",
    "               k=1, maxsample=maxlen, use_unk=True, oov=vocab_size-1, empty=empty, eos=eos, temperature=1.0):\n",
    "    \"\"\"return k samples (beams) and their NLL scores, each sample is a sequence of labels,\n",
    "    all samples starts with an `empty` label and end with `eos` or truncated to length of `maxsample`.\n",
    "    You need to supply `predict` which returns the label probability of each sample.\n",
    "    `use_unk` allow usage of `oov` (out-of-vocabulary) label in samples\n",
    "    \"\"\"\n",
    "    def sample(energy, n, temperature=temperature):\n",
    "        \"\"\"sample at most n different elements according to their energy\"\"\"\n",
    "        n = min(n,len(energy))\n",
    "        prb = np.exp(-np.array(energy) / temperature )\n",
    "        res = []\n",
    "        for i in range(n):\n",
    "            z = np.sum(prb)\n",
    "            r = np.argmax(np.random.multinomial(1, prb/z, 1))\n",
    "            res.append(r)\n",
    "            prb[r] = 0. # make sure we select each element only once\n",
    "        return res\n",
    "\n",
    "    dead_samples = []\n",
    "    dead_scores = []\n",
    "    live_samples = [list(start)]\n",
    "    live_scores = [0]\n",
    "    counter = 1\n",
    "    \n",
    "    while live_samples:\n",
    "        # for every possible live sample calc prob for every possible label \n",
    "        probs = predict(live_samples, empty=empty)\n",
    "        assert vocab_size == probs.shape[1]\n",
    "\n",
    "        # total score for every sample is sum of -log of word prb\n",
    "        cand_scores = np.array(live_scores)[:,None] - np.log(probs)\n",
    "        cand_scores[:,empty] = 1e20\n",
    "        if not use_unk and oov is not None:\n",
    "            cand_scores[:,oov] = 1e20\n",
    "        if avoid:\n",
    "            for a in avoid:\n",
    "                for i, s in enumerate(live_samples):\n",
    "                    n = len(s) - len(start)\n",
    "                    if n < len(a):\n",
    "                        # at this point live_sample is before the new word,\n",
    "                        # which should be avoided, is added\n",
    "                        cand_scores[i,a[n]] += avoid_score\n",
    "        live_scores = list(cand_scores.flatten())\n",
    "\n",
    "        # find the best (lowest) scores we have from all possible dead samples and\n",
    "        # all live samples and all possible new words added\n",
    "        scores = dead_scores + live_scores\n",
    "        ranks = sample(scores, k)\n",
    "        n = len(dead_scores)\n",
    "        dead_scores = [dead_scores[r] for r in ranks if r < n]\n",
    "        dead_samples = [dead_samples[r] for r in ranks if r < n]\n",
    "        \n",
    "        live_scores = [live_scores[r-n] for r in ranks if r >= n]\n",
    "        live_samples = [live_samples[(r-n)//vocab_size]+[(r-n)%vocab_size] for r in ranks if r >= n]\n",
    "\n",
    "        # live samples that should be dead are...\n",
    "        # even if len(live_samples) == maxsample we dont want it dead because we want one\n",
    "        # last prediction out of it to reach a headline of maxlenh\n",
    "        def is_zombie(s):\n",
    "            return s[-1] == eos or len(s) > maxsample\n",
    "        \n",
    "        # add zombies to the dead\n",
    "        dead_scores += [c for s, c in zip(live_samples, live_scores) if is_zombie(s)]\n",
    "        dead_samples += [s for s in live_samples if is_zombie(s)]\n",
    "        \n",
    "        # remove zombies from the living \n",
    "        live_scores = [c for s, c in zip(live_samples, live_scores) if not is_zombie(s)]\n",
    "        live_samples = [s for s in live_samples if not is_zombie(s)]\n",
    "        counter += 1\n",
    "    \n",
    "    print(counter)\n",
    "    return dead_samples, dead_scores"
   ]
  },
  {
   "cell_type": "code",
   "execution_count": 44,
   "metadata": {},
   "outputs": [],
   "source": [
    "def gensamples(X=None,  avoid=None, avoid_score=1, skips=2, k=10, batch_size=batch_size, \n",
    "               short=True, temperature=1., use_unk=True):\n",
    "    if X is None or isinstance(X,int):\n",
    "        if X is None:\n",
    "            i = random.randint(0,len(testX)-1)\n",
    "        else:\n",
    "            i = X\n",
    "        print('TITLE %d:'%i,' '.join(idx2word[w] for w in testY[i]))\n",
    "        print('ABSTRACT:',' '.join(idx2word[w] for w in testX[i]))\n",
    "        x = testX[i]\n",
    "    else:\n",
    "        x = [word2idx[w.rstrip('^')] for w in X.split()]\n",
    "        \n",
    "    if avoid:\n",
    "        # avoid is a list of avoids. Each avoid is a string or list of word indicies\n",
    "        if isinstance(avoid,str) or isinstance(avoid[0], int):\n",
    "            avoid = [avoid]\n",
    "        avoid = [a.split() if isinstance(a,str) else a for a in avoid]\n",
    "        avoid = [vocab_fold([w if isinstance(w,int) else word2idx[w] for w in a])\n",
    "                 for a in avoid]\n",
    "\n",
    "    print('TITLES:')\n",
    "    samples = []\n",
    "    skips = range(min(aMaxLen,len(x)), max(aMaxLen,len(x)), abs(aMaxLen - len(x)) // skips + 1)\n",
    "    print(skips)\n",
    "    for s in skips:\n",
    "        start = lpadd(x[:s])\n",
    "        fold_start = vocab_fold(start)\n",
    "        sample, score = beamsearch(predict=keras_rnn_predict, start=fold_start, avoid=avoid, \n",
    "                                   avoid_score=avoid_score,k=k, temperature=temperature, use_unk=use_unk)\n",
    "        assert all(s[aMaxLen] == eos for s in sample)\n",
    "        samples += [(s,start,scr) for s,scr in zip(sample,score)]\n",
    "    \n",
    "    samples.sort(key=lambda x: x[-1])\n",
    "    return samples"
   ]
  },
  {
   "cell_type": "code",
   "execution_count": 52,
   "metadata": {},
   "outputs": [
    {
     "name": "stdout",
     "output_type": "stream",
     "text": [
      "TITLE 688: multi-level active prediction of useful image annotations for recognition\n",
      "ABSTRACT: we introduce a framework for actively learning visual categories from a mixture of weakly and strongly labeled image examples. we propose to allow the category-learner to strategically choose what annotations it receives---based on both the expected reduction in uncertainty as well as the relative costs of obtaining each annotation. we construct a multiple-instance discriminative classifier based on the initial training data. then all remaining unlabeled and weakly labeled examples are surveyed to actively determine which annotation ought to be requested next. after each request, the current classifier is incrementally updated. unlike previous work, our approach accounts for the fact that the optimal use of manual annotation may call for a combination of labels at multiple levels of granularity (e.g., a full segmentation on some images and a present/absent flag on others). as a result, it is possible to learn more accurate category models with a lower total expenditure of manual annotation effort.\n",
      "TITLES:\n",
      "range(152, 250, 99)\n"
     ]
    },
    {
     "name": "stderr",
     "output_type": "stream",
     "text": [
      "/usr/share/anaconda3/lib/python3.6/site-packages/ipykernel_launcher.py:15: RuntimeWarning: invalid value encountered in true_divide\n",
      "  from ipykernel import kernelapp as app\n"
     ]
    },
    {
     "name": "stdout",
     "output_type": "stream",
     "text": [
      "251\n",
      "263.9286901950836 a bayesian learning the bayesian efficient learning a a order bayesian learning map efficient networks the and with nonparametric the a learning stochastic neural a a learning adaptive a learning learning in learning learning the a adaptive matrix a in with learning learning with inference a bayesian a learning with a a for for on learning a learning bayesian learning learning learning the learning a\n"
     ]
    }
   ],
   "source": [
    "samples = gensamples()\n",
    "codes = []\n",
    "short=True\n",
    "for sample, start, score in samples:\n",
    "    code = ''\n",
    "    words = []\n",
    "    sample = vocab_unfold(start, sample)[len(start):]\n",
    "    for w in sample:\n",
    "        if w == eos:\n",
    "            break\n",
    "        words.append(idx2word[w])\n",
    "        code += chr(w//(256*256)) + chr((w//256)%256) + chr(w%256)\n",
    "    if short:\n",
    "        distance = min([100] + [-Levenshtein.jaro(code,c) for c in codes])\n",
    "        if distance > -0.6:\n",
    "            print(score, ' '.join(words))\n",
    "    else:\n",
    "            print(score, ' '.join(words))\n",
    "    codes.append(code)"
   ]
  },
  {
   "cell_type": "markdown",
   "metadata": {},
   "source": [
    "---"
   ]
  }
 ],
 "metadata": {
  "kernelspec": {
   "display_name": "Python 3",
   "language": "python",
   "name": "python3"
  },
  "language_info": {
   "codemirror_mode": {
    "name": "ipython",
    "version": 3
   },
   "file_extension": ".py",
   "mimetype": "text/x-python",
   "name": "python",
   "nbconvert_exporter": "python",
   "pygments_lexer": "ipython3",
   "version": "3.6.8"
  }
 },
 "nbformat": 4,
 "nbformat_minor": 2
}
