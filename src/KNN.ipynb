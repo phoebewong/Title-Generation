{
 "cells": [
  {
   "cell_type": "code",
   "execution_count": 1,
   "metadata": {},
   "outputs": [],
   "source": [
    "#import packages\n",
    "import pandas as pd\n",
    "import matplotlib.pyplot as plt\n",
    "import seaborn as sns\n",
    "import numpy as np\n",
    "# from nltk.corpus import stopwords\n",
    "from nltk.tokenize import RegexpTokenizer\n",
    "from collections import Counter\n",
    "from gensim.corpora import Dictionary\n",
    "from sklearn.model_selection import train_test_split"
   ]
  },
  {
   "cell_type": "markdown",
   "metadata": {},
   "source": [
    "### Data Cleaning"
   ]
  },
  {
   "cell_type": "code",
   "execution_count": 2,
   "metadata": {},
   "outputs": [],
   "source": [
    "papers = pd.read_csv('papers.csv')"
   ]
  },
  {
   "cell_type": "code",
   "execution_count": 3,
   "metadata": {},
   "outputs": [],
   "source": [
    "#replace abstract missing with na\n",
    "papers.abstract = papers.abstract.apply(lambda x: np.nan if 'Abstract Missing' else x)\n",
    "\n",
    "#replace \\n with space\n",
    "def getSpace(x):\n",
    "    for i in range(len(x)):\n",
    "        try:\n",
    "            x[i] = x[i].replace('\\n', ' ')\n",
    "        except:\n",
    "            x[i] = x[i]\n",
    "    return x\n",
    "\n",
    "papers[['abstract','paper_text']] = papers[['abstract','paper_text']].apply(lambda x: getSpace(x), axis = 1)"
   ]
  },
  {
   "cell_type": "code",
   "execution_count": 4,
   "metadata": {},
   "outputs": [],
   "source": [
    "papers = papers.sort_values(by = 'id') #sort by id"
   ]
  },
  {
   "cell_type": "code",
   "execution_count": 5,
   "metadata": {},
   "outputs": [
    {
     "data": {
      "text/html": [
       "<div>\n",
       "<style scoped>\n",
       "    .dataframe tbody tr th:only-of-type {\n",
       "        vertical-align: middle;\n",
       "    }\n",
       "\n",
       "    .dataframe tbody tr th {\n",
       "        vertical-align: top;\n",
       "    }\n",
       "\n",
       "    .dataframe thead th {\n",
       "        text-align: right;\n",
       "    }\n",
       "</style>\n",
       "<table border=\"1\" class=\"dataframe\">\n",
       "  <thead>\n",
       "    <tr style=\"text-align: right;\">\n",
       "      <th></th>\n",
       "      <th>id</th>\n",
       "      <th>year</th>\n",
       "      <th>title</th>\n",
       "      <th>event_type</th>\n",
       "      <th>pdf_name</th>\n",
       "      <th>abstract</th>\n",
       "      <th>paper_text</th>\n",
       "    </tr>\n",
       "  </thead>\n",
       "  <tbody>\n",
       "    <tr>\n",
       "      <th>0</th>\n",
       "      <td>1</td>\n",
       "      <td>1987</td>\n",
       "      <td>Self-Organization of Associative Database and ...</td>\n",
       "      <td>NaN</td>\n",
       "      <td>1-self-organization-of-associative-database-an...</td>\n",
       "      <td>NaN</td>\n",
       "      <td>767  SELF-ORGANIZATION OF ASSOCIATIVE DATABASE...</td>\n",
       "    </tr>\n",
       "    <tr>\n",
       "      <th>1094</th>\n",
       "      <td>2</td>\n",
       "      <td>1987</td>\n",
       "      <td>The Capacity of the Kanerva Associative Memory...</td>\n",
       "      <td>NaN</td>\n",
       "      <td>2-the-capacity-of-the-kanerva-associative-memo...</td>\n",
       "      <td>NaN</td>\n",
       "      <td>184  THE CAPACITY OF THE KANERVA ASSOCIATIVE M...</td>\n",
       "    </tr>\n",
       "    <tr>\n",
       "      <th>2202</th>\n",
       "      <td>3</td>\n",
       "      <td>1987</td>\n",
       "      <td>Supervised Learning of Probability Distributio...</td>\n",
       "      <td>NaN</td>\n",
       "      <td>3-supervised-learning-of-probability-distribut...</td>\n",
       "      <td>NaN</td>\n",
       "      <td>52  Supervised Learning of Probability Distrib...</td>\n",
       "    </tr>\n",
       "    <tr>\n",
       "      <th>3311</th>\n",
       "      <td>4</td>\n",
       "      <td>1987</td>\n",
       "      <td>Constrained Differential Optimization</td>\n",
       "      <td>NaN</td>\n",
       "      <td>4-constrained-differential-optimization.pdf</td>\n",
       "      <td>NaN</td>\n",
       "      <td>612  Constrained Differential Optimization Joh...</td>\n",
       "    </tr>\n",
       "    <tr>\n",
       "      <th>4418</th>\n",
       "      <td>5</td>\n",
       "      <td>1987</td>\n",
       "      <td>Towards an Organizing Principle for a Layered ...</td>\n",
       "      <td>NaN</td>\n",
       "      <td>5-towards-an-organizing-principle-for-a-layere...</td>\n",
       "      <td>NaN</td>\n",
       "      <td>485  TOWARDS AN ORGANIZING PRINCIPLE FOR A LAY...</td>\n",
       "    </tr>\n",
       "  </tbody>\n",
       "</table>\n",
       "</div>"
      ],
      "text/plain": [
       "      id  year                                              title event_type  \\\n",
       "0      1  1987  Self-Organization of Associative Database and ...        NaN   \n",
       "1094   2  1987  The Capacity of the Kanerva Associative Memory...        NaN   \n",
       "2202   3  1987  Supervised Learning of Probability Distributio...        NaN   \n",
       "3311   4  1987              Constrained Differential Optimization        NaN   \n",
       "4418   5  1987  Towards an Organizing Principle for a Layered ...        NaN   \n",
       "\n",
       "                                               pdf_name  abstract  \\\n",
       "0     1-self-organization-of-associative-database-an...       NaN   \n",
       "1094  2-the-capacity-of-the-kanerva-associative-memo...       NaN   \n",
       "2202  3-supervised-learning-of-probability-distribut...       NaN   \n",
       "3311        4-constrained-differential-optimization.pdf       NaN   \n",
       "4418  5-towards-an-organizing-principle-for-a-layere...       NaN   \n",
       "\n",
       "                                             paper_text  \n",
       "0     767  SELF-ORGANIZATION OF ASSOCIATIVE DATABASE...  \n",
       "1094  184  THE CAPACITY OF THE KANERVA ASSOCIATIVE M...  \n",
       "2202  52  Supervised Learning of Probability Distrib...  \n",
       "3311  612  Constrained Differential Optimization Joh...  \n",
       "4418  485  TOWARDS AN ORGANIZING PRINCIPLE FOR A LAY...  "
      ]
     },
     "execution_count": 5,
     "metadata": {},
     "output_type": "execute_result"
    }
   ],
   "source": [
    "papers.head()"
   ]
  },
  {
   "cell_type": "code",
   "execution_count": 6,
   "metadata": {},
   "outputs": [],
   "source": [
    "check = dict()"
   ]
  },
  {
   "cell_type": "code",
   "execution_count": 7,
   "metadata": {
    "scrolled": true
   },
   "outputs": [],
   "source": [
    "#cache dictionaries for word and tag tokenization\n",
    "word2idx = dict()\n",
    "idx2word = dict()\n",
    "uniqueWord = Counter() #track unique words\n",
    "maxLen = 0 #track maximum text length\n",
    "\n",
    "#start token at 1\n",
    "wStart = 0\n",
    "\n",
    "#for each word\n",
    "for t in papers.paper_text:   \n",
    "    vec = t.split(' ')\n",
    "    l = len(vec)\n",
    "    if l > maxLen:\n",
    "        maxLen = l\n",
    "    for w in vec:\n",
    "        if uniqueWord[w] == 0:\n",
    "            uniqueWord[w] += 1\n",
    "            #update dictionaries if key is not already seen\n",
    "            word2idx.update({w: wStart})\n",
    "            idx2word.update({wStart: w})\n",
    "            wStart += 1"
   ]
  },
  {
   "cell_type": "code",
   "execution_count": 8,
   "metadata": {},
   "outputs": [
    {
     "name": "stdout",
     "output_type": "stream",
     "text": [
      "Number of unique words/characters:  1110679\n",
      "Maxmimum text length:  22382\n"
     ]
    }
   ],
   "source": [
    "print('Number of unique words/characters: ', len(word2idx))\n",
    "print('Maxmimum text length: ', maxLen)"
   ]
  },
  {
   "cell_type": "code",
   "execution_count": 9,
   "metadata": {},
   "outputs": [],
   "source": [
    "#train test split\n",
    "train, test = train_test_split(papers, test_size = 0.25)"
   ]
  },
  {
   "cell_type": "code",
   "execution_count": 10,
   "metadata": {},
   "outputs": [],
   "source": [
    "trainVec = list() #cache list for tokenized text\n",
    "\n",
    "for t in train.paper_text.values:\n",
    "    vec = t.split(' ')\n",
    "    wVec = [word2idx[w] for w in vec]\n",
    "    while len(wVec) < maxLen:\n",
    "        wVec.append(wStart + 1) #pad vector until length is equal to maximum text length\n",
    "    trainVec.append(np.array(wVec))"
   ]
  },
  {
   "cell_type": "code",
   "execution_count": 11,
   "metadata": {},
   "outputs": [],
   "source": [
    "testVec = list() #cache list for tokenized text\n",
    "\n",
    "for t in test.paper_text.values:\n",
    "    vec = t.split(' ')\n",
    "    wVec = [word2idx[w] for w in vec]\n",
    "    while len(wVec) < maxLen:\n",
    "        wVec.append(wStart + 1) #pad vector until length is equal to maximum text length\n",
    "    testVec.append(np.array(wVec))"
   ]
  },
  {
   "cell_type": "code",
   "execution_count": null,
   "metadata": {},
   "outputs": [],
   "source": []
  },
  {
   "cell_type": "code",
   "execution_count": null,
   "metadata": {},
   "outputs": [],
   "source": [
    "#prediction \n",
    "#similarity as the dot product between document vectors?"
   ]
  },
  {
   "cell_type": "code",
   "execution_count": null,
   "metadata": {},
   "outputs": [],
   "source": [
    "# from sklearn.neighbors import KNeighborsClassifier"
   ]
  },
  {
   "cell_type": "code",
   "execution_count": null,
   "metadata": {},
   "outputs": [],
   "source": [
    "# trainX = trainVec\n",
    "# trainY = np.arange(0, len(trainX))\n",
    "# testX = testVec"
   ]
  },
  {
   "cell_type": "code",
   "execution_count": null,
   "metadata": {},
   "outputs": [],
   "source": [
    "# knn = KNeighborsClassifier(n_neighbors = 1)\n",
    "# knn.fit(trainX, trainY)"
   ]
  },
  {
   "cell_type": "code",
   "execution_count": null,
   "metadata": {},
   "outputs": [],
   "source": [
    "# knn.predict(testX)"
   ]
  },
  {
   "cell_type": "code",
   "execution_count": null,
   "metadata": {},
   "outputs": [],
   "source": []
  }
 ],
 "metadata": {
  "kernelspec": {
   "display_name": "Python 3",
   "language": "python",
   "name": "python3"
  },
  "language_info": {
   "codemirror_mode": {
    "name": "ipython",
    "version": 3
   },
   "file_extension": ".py",
   "mimetype": "text/x-python",
   "name": "python",
   "nbconvert_exporter": "python",
   "pygments_lexer": "ipython3",
   "version": "3.6.7"
  }
 },
 "nbformat": 4,
 "nbformat_minor": 2
}
