{
 "cells": [
  {
   "cell_type": "markdown",
   "metadata": {},
   "source": [
    "## Milestone II: Exploratory Data Analysis\n",
    "\n",
    "**Team: Title Generation**\n",
    "\n",
    "Karina Huang, Abhimanyu Vasishth, Phoebe Wong\n",
    "\n",
    "_we have contacted our TF, Alexander Lin, and scheduled a meeting on Monday Apr 29._\n",
    "\n",
    "---"
   ]
  },
  {
   "cell_type": "markdown",
   "metadata": {},
   "source": [
    "#### Project Statement\n",
    "\n",
    "Given the full text or the abstract of an academic paper, we want to generate a title for the academic paper. \n",
    "Title generation can be approached from a text summarization perspective, where it is considered as compressing a scientific article to reflect its content. We would like to explore the idea of using the content of articles to automatically generate title and evaluate those titles to see if they share similar semantic meaning and information with the original titles."
   ]
  },
  {
   "cell_type": "markdown",
   "metadata": {},
   "source": [
    "#### Literature Review\n",
    "\n",
    "[Vinyals et al.](https://www.cv-foundation.org/openaccess/content_cvpr_2015/papers/Vinyals_Show_and_Tell_2015_CVPR_paper.pdf) set up an end-to-end model consisting of a CNN for vision and an RNN for text-generation in order to generate image captions by maximizing the target description sentence given the training image. The CNN, essentially the \"encoder\", converts images into a fixed-length latent vector, which the RNN \"decodes\" to generate captions. Specifically, the authors use an LSTM in order to get around the vanishing and exploding gradient problem commonly faced by bare-bones RNNs. The authors propose a few different evaluation metrics including a human evaluation study on Amazon Mechanical Turk where each image and the corresponding caption is rated by 2 workers. Other evaluation strategies used include comparing the caption to the \"ground-truth\", essentially human-generated descriptions, and using the BLEU score, a metric which is a form of precision using n-grams between generated and reference sentences that is shown to correlate with human evaluations. An issue of note is the diversity in generation, with the possibility of model collapse, and the authors evaluate diversity by analyzing the top-15 generated sentences for each image. \n",
    "\n",
    "[Jin et al.](https://www.researchgate.net/publication/220812713_Title_Generation_for_Machine-Translated_Documents) outline approaches not utilizing deep neural networks (such as Naïve Bayesian, a K-Nearest Neighbour, a TF-IDF and an iterative Expectation-Maximization method) an provides us with a few different alternatives that we can use to compare to our neural network based model. The strengths of the neural network model (we hope) relative to the weaknesses of this approach should also help motivate the use of neural networks in title-generation.\n",
    "\n",
    "Generating News Headlines with RNN by [Lopyrev](https://nlp.stanford.edu/courses/cs224n/2015/reports/1.pdf): this paper will give us an intuition about how to apply LSTMs and RNNs to the problem of title generation."
   ]
  },
  {
   "cell_type": "markdown",
   "metadata": {},
   "source": [
    "#### Preliminary EDA\n",
    "\n",
    "The [Neural Information Processing Systems (NIPS)](https://www.kaggle.com/benhamner/nips-papers#papers.csv) dataset includes a total of 7,241 papers published between 1987 and 2017. Our exploratory analysis identified 4819 missing event type (whether the paper was presented as a poster, an oral or a spotlight presentation), and 3317 missing abstracts. For the papers with abstract, the number of words in abstract varies between 19 and 317. The number of words in title ranges from 1 to 20. The example of titles of length 1 below suggest the need of data cleaning for this variable. Likewise, the number of words in text ranges from 1 to 22,382. Note that mathematical notations and symbols were also counted in this preliminary analysis; data cleaning for texts is necessary before model fitting. "
   ]
  },
  {
   "cell_type": "code",
   "execution_count": 1,
   "metadata": {},
   "outputs": [],
   "source": [
    "#import packages\n",
    "import pandas as pd\n",
    "import matplotlib.pyplot as plt\n",
    "import seaborn as sns\n",
    "\n",
    "#NLP packages\n",
    "from sklearn.feature_extraction.text import CountVectorizer"
   ]
  },
  {
   "cell_type": "code",
   "execution_count": 2,
   "metadata": {},
   "outputs": [
    {
     "name": "stdout",
     "output_type": "stream",
     "text": [
      "Size of data:  (7241, 7)\n"
     ]
    },
    {
     "data": {
      "text/html": [
       "<div>\n",
       "<style scoped>\n",
       "    .dataframe tbody tr th:only-of-type {\n",
       "        vertical-align: middle;\n",
       "    }\n",
       "\n",
       "    .dataframe tbody tr th {\n",
       "        vertical-align: top;\n",
       "    }\n",
       "\n",
       "    .dataframe thead th {\n",
       "        text-align: right;\n",
       "    }\n",
       "</style>\n",
       "<table border=\"1\" class=\"dataframe\">\n",
       "  <thead>\n",
       "    <tr style=\"text-align: right;\">\n",
       "      <th></th>\n",
       "      <th>id</th>\n",
       "      <th>year</th>\n",
       "      <th>title</th>\n",
       "      <th>event_type</th>\n",
       "      <th>pdf_name</th>\n",
       "      <th>abstract</th>\n",
       "      <th>paper_text</th>\n",
       "    </tr>\n",
       "  </thead>\n",
       "  <tbody>\n",
       "    <tr>\n",
       "      <th>0</th>\n",
       "      <td>1</td>\n",
       "      <td>1987</td>\n",
       "      <td>Self-Organization of Associative Database and ...</td>\n",
       "      <td>NaN</td>\n",
       "      <td>1-self-organization-of-associative-database-an...</td>\n",
       "      <td>Abstract Missing</td>\n",
       "      <td>767\\n\\nSELF-ORGANIZATION OF ASSOCIATIVE DATABA...</td>\n",
       "    </tr>\n",
       "    <tr>\n",
       "      <th>1</th>\n",
       "      <td>10</td>\n",
       "      <td>1987</td>\n",
       "      <td>A Mean Field Theory of Layer IV of Visual Cort...</td>\n",
       "      <td>NaN</td>\n",
       "      <td>10-a-mean-field-theory-of-layer-iv-of-visual-c...</td>\n",
       "      <td>Abstract Missing</td>\n",
       "      <td>683\\n\\nA MEAN FIELD THEORY OF LAYER IV OF VISU...</td>\n",
       "    </tr>\n",
       "    <tr>\n",
       "      <th>2</th>\n",
       "      <td>100</td>\n",
       "      <td>1988</td>\n",
       "      <td>Storing Covariance by the Associative Long-Ter...</td>\n",
       "      <td>NaN</td>\n",
       "      <td>100-storing-covariance-by-the-associative-long...</td>\n",
       "      <td>Abstract Missing</td>\n",
       "      <td>394\\n\\nSTORING COVARIANCE BY THE ASSOCIATIVE\\n...</td>\n",
       "    </tr>\n",
       "    <tr>\n",
       "      <th>3</th>\n",
       "      <td>1000</td>\n",
       "      <td>1994</td>\n",
       "      <td>Bayesian Query Construction for Neural Network...</td>\n",
       "      <td>NaN</td>\n",
       "      <td>1000-bayesian-query-construction-for-neural-ne...</td>\n",
       "      <td>Abstract Missing</td>\n",
       "      <td>Bayesian Query Construction for Neural\\nNetwor...</td>\n",
       "    </tr>\n",
       "    <tr>\n",
       "      <th>4</th>\n",
       "      <td>1001</td>\n",
       "      <td>1994</td>\n",
       "      <td>Neural Network Ensembles, Cross Validation, an...</td>\n",
       "      <td>NaN</td>\n",
       "      <td>1001-neural-network-ensembles-cross-validation...</td>\n",
       "      <td>Abstract Missing</td>\n",
       "      <td>Neural Network Ensembles, Cross\\nValidation, a...</td>\n",
       "    </tr>\n",
       "  </tbody>\n",
       "</table>\n",
       "</div>"
      ],
      "text/plain": [
       "     id  year                                              title event_type  \\\n",
       "0     1  1987  Self-Organization of Associative Database and ...        NaN   \n",
       "1    10  1987  A Mean Field Theory of Layer IV of Visual Cort...        NaN   \n",
       "2   100  1988  Storing Covariance by the Associative Long-Ter...        NaN   \n",
       "3  1000  1994  Bayesian Query Construction for Neural Network...        NaN   \n",
       "4  1001  1994  Neural Network Ensembles, Cross Validation, an...        NaN   \n",
       "\n",
       "                                            pdf_name          abstract  \\\n",
       "0  1-self-organization-of-associative-database-an...  Abstract Missing   \n",
       "1  10-a-mean-field-theory-of-layer-iv-of-visual-c...  Abstract Missing   \n",
       "2  100-storing-covariance-by-the-associative-long...  Abstract Missing   \n",
       "3  1000-bayesian-query-construction-for-neural-ne...  Abstract Missing   \n",
       "4  1001-neural-network-ensembles-cross-validation...  Abstract Missing   \n",
       "\n",
       "                                          paper_text  \n",
       "0  767\\n\\nSELF-ORGANIZATION OF ASSOCIATIVE DATABA...  \n",
       "1  683\\n\\nA MEAN FIELD THEORY OF LAYER IV OF VISU...  \n",
       "2  394\\n\\nSTORING COVARIANCE BY THE ASSOCIATIVE\\n...  \n",
       "3  Bayesian Query Construction for Neural\\nNetwor...  \n",
       "4  Neural Network Ensembles, Cross\\nValidation, a...  "
      ]
     },
     "execution_count": 2,
     "metadata": {},
     "output_type": "execute_result"
    }
   ],
   "source": [
    "#check dataset\n",
    "papers = pd.read_csv('papers.csv')\n",
    "print('Size of data: ', papers.shape)\n",
    "papers.head()"
   ]
  },
  {
   "cell_type": "code",
   "execution_count": 3,
   "metadata": {},
   "outputs": [
    {
     "data": {
      "text/plain": [
       "id               0\n",
       "year             0\n",
       "title            0\n",
       "event_type    4819\n",
       "pdf_name         0\n",
       "abstract         0\n",
       "paper_text       0\n",
       "dtype: int64"
      ]
     },
     "execution_count": 3,
     "metadata": {},
     "output_type": "execute_result"
    }
   ],
   "source": [
    "#check missing value\n",
    "papers.isna().sum()"
   ]
  },
  {
   "cell_type": "code",
   "execution_count": 4,
   "metadata": {},
   "outputs": [
    {
     "name": "stdout",
     "output_type": "stream",
     "text": [
      "Number of papers missing abstracts:  3317\n"
     ]
    }
   ],
   "source": [
    "#check missing abstract\n",
    "missing = 0\n",
    "for a in papers.abstract.values:\n",
    "    if a == 'Abstract Missing':\n",
    "        missing += 1\n",
    "print('Number of papers missing abstracts: ', missing)"
   ]
  },
  {
   "cell_type": "code",
   "execution_count": 5,
   "metadata": {},
   "outputs": [
    {
     "data": {
      "text/plain": [
       "Poster       2146\n",
       "Spotlight     181\n",
       "Oral           95\n",
       "Name: event_type, dtype: int64"
      ]
     },
     "execution_count": 5,
     "metadata": {},
     "output_type": "execute_result"
    }
   ],
   "source": [
    "#check value counts for event type\n",
    "papers.event_type.value_counts()"
   ]
  },
  {
   "cell_type": "code",
   "execution_count": 6,
   "metadata": {
    "scrolled": false
   },
   "outputs": [
    {
     "name": "stdout",
     "output_type": "stream",
     "text": [
      "Title with 1 word: \n",
      "\n",
      "['Gaussianization']\n",
      "['Hyperkernels']\n",
      "['Q-Clustering']\n",
      "['Gates']\n",
      "['<var>L_1</var>']\n",
      "['Crowdclustering']\n",
      "['<var>\\\\theta</var>']\n"
     ]
    },
    {
     "data": {
      "image/png": "[encoded data removed]",
      "text/plain": [
       "<Figure size 720x432 with 1 Axes>"
      ]
     },
     "metadata": {
      "needs_background": "light"
     },
     "output_type": "display_data"
    }
   ],
   "source": [
    "#check length of title\n",
    "tLength = list()\n",
    "print('Title with 1 word: ')\n",
    "print()\n",
    "for t in papers.title.values:\n",
    "    t = t.replace('\\n', ' ').split(' ')\n",
    "    if len(t) <= 1:\n",
    "        print(t)\n",
    "    tLength.append(len(t))\n",
    "\n",
    "#plot distribution of title length \n",
    "fig, ax = plt.subplots(figsize = (10, 6))\n",
    "# sns.distplot(tLength, kde = False, ax = ax)\n",
    "ax.hist(tLength, bins = 20, color = 'crimson')\n",
    "ax.set_xticks(range(min(tLength), max(tLength)+1))\n",
    "ax.set_xticklabels(range(min(tLength), max(tLength)+1))\n",
    "ax.set_xlabel('Number of Words in Title', fontsize = 20)\n",
    "ax.set_ylabel('Frequency', fontsize = 20)\n",
    "ax.set_title('Distribution of Title Length', fontsize = 25)\n",
    "plt.show()"
   ]
  },
  {
   "cell_type": "code",
   "execution_count": 7,
   "metadata": {},
   "outputs": [
    {
     "data": {
      "image/png": "[encoded data removed]",
      "text/plain": [
       "<Figure size 1440x432 with 1 Axes>"
      ]
     },
     "metadata": {
      "needs_background": "light"
     },
     "output_type": "display_data"
    }
   ],
   "source": [
    "#check year of publication\n",
    "fig, ax = plt.subplots(figsize = (20, 6))\n",
    "sns.countplot(papers.year.values, ax = ax, color = 'crimson')\n",
    "ax.set_xlabel('Year of Publication', fontsize = 20)\n",
    "ax.set_ylabel('Frequency', fontsize = 20)\n",
    "ax.set_title('Distribution of Publication Year', fontsize = 25)\n",
    "plt.show()"
   ]
  },
  {
   "cell_type": "code",
   "execution_count": 8,
   "metadata": {},
   "outputs": [],
   "source": [
    "#check length of text\n",
    "textLength = list()\n",
    "for t in papers.paper_text.values:\n",
    "    t = t.replace('\\n', ' ').split(' ')\n",
    "    textLength.append(len(t))"
   ]
  },
  {
   "cell_type": "code",
   "execution_count": 9,
   "metadata": {},
   "outputs": [
    {
     "data": {
      "image/png": "[encoded data removed]",
      "text/plain": [
       "<Figure size 720x432 with 1 Axes>"
      ]
     },
     "metadata": {
      "needs_background": "light"
     },
     "output_type": "display_data"
    }
   ],
   "source": [
    "#plot distribution of text length \n",
    "fig, ax = plt.subplots(figsize = (10, 6))\n",
    "ax.hist(textLength, bins = 50, color = 'crimson')\n",
    "ax.set_xticks(range(0, max(textLength)+1, 1000))\n",
    "ax.set_xticklabels(range(0, max(textLength)+1, 1000), rotation = 45)\n",
    "ax.set_xlabel('Number of Words in Text', fontsize = 20)\n",
    "ax.set_ylabel('Frequency', fontsize = 20)\n",
    "ax.set_title('Distribution of Text Length', fontsize = 25)\n",
    "plt.show()"
   ]
  },
  {
   "cell_type": "code",
   "execution_count": 10,
   "metadata": {},
   "outputs": [],
   "source": [
    "#check length of abstract\n",
    "aLength = list()\n",
    "for a in papers.abstract.values:\n",
    "    if a != 'Abstract Missing':\n",
    "        a = a.replace('\\n', ' ').split(' ')\n",
    "        aLength.append(len(a))"
   ]
  },
  {
   "cell_type": "code",
   "execution_count": 11,
   "metadata": {},
   "outputs": [
    {
     "data": {
      "image/png": "[encoded data removed]",
      "text/plain": [
       "<Figure size 720x432 with 1 Axes>"
      ]
     },
     "metadata": {
      "needs_background": "light"
     },
     "output_type": "display_data"
    }
   ],
   "source": [
    "#plot distribution of abstract length \n",
    "fig, ax = plt.subplots(figsize = (10, 6))\n",
    "ax.hist(aLength, bins = 50, color = 'crimson')\n",
    "ax.set_xticks(range(min(aLength), max(aLength)+1, 21))\n",
    "ax.set_xticklabels(range(min(aLength), max(aLength)+1, 21), rotation = 45)\n",
    "ax.set_xlabel('Number of Words in Abstract', fontsize = 20)\n",
    "ax.set_ylabel('Frequency', fontsize = 20)\n",
    "ax.set_title('Distribution of Abstract Length', fontsize = 25)\n",
    "plt.show()"
   ]
  },
  {
   "cell_type": "markdown",
   "metadata": {},
   "source": [
    "We also look for the most commonly occuring combinations of words (bigrams and tri-grams) in the full paper text as well as the title. These will likely be important features that our model will rely heavily on."
   ]
  },
  {
   "cell_type": "code",
   "execution_count": 12,
   "metadata": {},
   "outputs": [],
   "source": [
    "def top_ngrams(training_data, min_n=2, max_n=2, excluded_ngrams=[], max_features=500, stop_words='english'):\n",
    "    # count vectorizer with stop words\n",
    "    cv = CountVectorizer(ngram_range=(min_n,max_n), max_features = max_features, stop_words=stop_words)\n",
    "    cv.fit(training_data)\n",
    "    X = cv.transform(training_data)\n",
    "    counts = X.sum(axis=0)\n",
    "    \n",
    "    # creating dataframe with top n-grams sorted by counts in descending order\n",
    "    df = pd.DataFrame({'n-grams': cv.get_feature_names(), 'Count': counts.tolist()[0]})\n",
    "    df = df[df['n-grams'].map(lambda x: x not in excluded_ngrams)]\n",
    "    df.sort_values(by='Count', ascending=False, inplace=True)\n",
    "    return df"
   ]
  },
  {
   "cell_type": "code",
   "execution_count": 13,
   "metadata": {},
   "outputs": [
    {
     "data": {
      "text/html": [
       "<div>\n",
       "<style scoped>\n",
       "    .dataframe tbody tr th:only-of-type {\n",
       "        vertical-align: middle;\n",
       "    }\n",
       "\n",
       "    .dataframe tbody tr th {\n",
       "        vertical-align: top;\n",
       "    }\n",
       "\n",
       "    .dataframe thead th {\n",
       "        text-align: right;\n",
       "    }\n",
       "</style>\n",
       "<table border=\"1\" class=\"dataframe\">\n",
       "  <thead>\n",
       "    <tr style=\"text-align: right;\">\n",
       "      <th></th>\n",
       "      <th>n-grams</th>\n",
       "      <th>Count</th>\n",
       "    </tr>\n",
       "  </thead>\n",
       "  <tbody>\n",
       "    <tr>\n",
       "      <th>258</th>\n",
       "      <td>machine learning</td>\n",
       "      <td>15745</td>\n",
       "    </tr>\n",
       "    <tr>\n",
       "      <th>304</th>\n",
       "      <td>neural networks</td>\n",
       "      <td>11948</td>\n",
       "    </tr>\n",
       "    <tr>\n",
       "      <th>303</th>\n",
       "      <td>neural network</td>\n",
       "      <td>8129</td>\n",
       "    </tr>\n",
       "    <tr>\n",
       "      <th>457</th>\n",
       "      <td>training set</td>\n",
       "      <td>6804</td>\n",
       "    </tr>\n",
       "    <tr>\n",
       "      <th>39</th>\n",
       "      <td>advances neural information</td>\n",
       "      <td>6671</td>\n",
       "    </tr>\n",
       "    <tr>\n",
       "      <th>454</th>\n",
       "      <td>training data</td>\n",
       "      <td>5843</td>\n",
       "    </tr>\n",
       "    <tr>\n",
       "      <th>106</th>\n",
       "      <td>data set</td>\n",
       "      <td>5450</td>\n",
       "    </tr>\n",
       "    <tr>\n",
       "      <th>382</th>\n",
       "      <td>reinforcement learning</td>\n",
       "      <td>5168</td>\n",
       "    </tr>\n",
       "    <tr>\n",
       "      <th>255</th>\n",
       "      <td>lower bound</td>\n",
       "      <td>5117</td>\n",
       "    </tr>\n",
       "    <tr>\n",
       "      <th>151</th>\n",
       "      <td>figure shows</td>\n",
       "      <td>5020</td>\n",
       "    </tr>\n",
       "  </tbody>\n",
       "</table>\n",
       "</div>"
      ],
      "text/plain": [
       "                         n-grams  Count\n",
       "258             machine learning  15745\n",
       "304              neural networks  11948\n",
       "303               neural network   8129\n",
       "457                 training set   6804\n",
       "39   advances neural information   6671\n",
       "454                training data   5843\n",
       "106                     data set   5450\n",
       "382       reinforcement learning   5168\n",
       "255                  lower bound   5117\n",
       "151                 figure shows   5020"
      ]
     },
     "execution_count": 13,
     "metadata": {},
     "output_type": "execute_result"
    }
   ],
   "source": [
    "#bigrams or trigrams in full text\n",
    "excluded_ngrams = [\"et al\",\"10 10\",\"international conference\",\"neural information\",\"information processing\",\n",
    "                   \"processing systems\",\"advances neural\",\"supplementary material\", \"10 10 10\", \n",
    "                   \"neural information processing\", \"information processing systems\"]\n",
    "\n",
    "df_ngrams_full_text = top_ngrams(papers['paper_text'], min_n=2, max_n=3, excluded_ngrams=excluded_ngrams)\n",
    "df_ngrams_full_text.head(10) # top 10 bigrams & trigrams"
   ]
  },
  {
   "cell_type": "code",
   "execution_count": 14,
   "metadata": {},
   "outputs": [
    {
     "data": {
      "text/html": [
       "<div>\n",
       "<style scoped>\n",
       "    .dataframe tbody tr th:only-of-type {\n",
       "        vertical-align: middle;\n",
       "    }\n",
       "\n",
       "    .dataframe tbody tr th {\n",
       "        vertical-align: top;\n",
       "    }\n",
       "\n",
       "    .dataframe thead th {\n",
       "        text-align: right;\n",
       "    }\n",
       "</style>\n",
       "<table border=\"1\" class=\"dataframe\">\n",
       "  <thead>\n",
       "    <tr style=\"text-align: right;\">\n",
       "      <th></th>\n",
       "      <th>n-grams</th>\n",
       "      <th>Count</th>\n",
       "    </tr>\n",
       "  </thead>\n",
       "  <tbody>\n",
       "    <tr>\n",
       "      <th>321</th>\n",
       "      <td>neural networks</td>\n",
       "      <td>272</td>\n",
       "    </tr>\n",
       "    <tr>\n",
       "      <th>380</th>\n",
       "      <td>reinforcement learning</td>\n",
       "      <td>154</td>\n",
       "    </tr>\n",
       "    <tr>\n",
       "      <th>319</th>\n",
       "      <td>neural network</td>\n",
       "      <td>148</td>\n",
       "    </tr>\n",
       "    <tr>\n",
       "      <th>142</th>\n",
       "      <td>gaussian process</td>\n",
       "      <td>79</td>\n",
       "    </tr>\n",
       "    <tr>\n",
       "      <th>197</th>\n",
       "      <td>large scale</td>\n",
       "      <td>70</td>\n",
       "    </tr>\n",
       "    <tr>\n",
       "      <th>159</th>\n",
       "      <td>graphical models</td>\n",
       "      <td>68</td>\n",
       "    </tr>\n",
       "    <tr>\n",
       "      <th>167</th>\n",
       "      <td>high dimensional</td>\n",
       "      <td>64</td>\n",
       "    </tr>\n",
       "    <tr>\n",
       "      <th>444</th>\n",
       "      <td>support vector</td>\n",
       "      <td>57</td>\n",
       "    </tr>\n",
       "    <tr>\n",
       "      <th>392</th>\n",
       "      <td>semi supervised</td>\n",
       "      <td>57</td>\n",
       "    </tr>\n",
       "    <tr>\n",
       "      <th>283</th>\n",
       "      <td>monte carlo</td>\n",
       "      <td>53</td>\n",
       "    </tr>\n",
       "  </tbody>\n",
       "</table>\n",
       "</div>"
      ],
      "text/plain": [
       "                    n-grams  Count\n",
       "321         neural networks    272\n",
       "380  reinforcement learning    154\n",
       "319          neural network    148\n",
       "142        gaussian process     79\n",
       "197             large scale     70\n",
       "159        graphical models     68\n",
       "167        high dimensional     64\n",
       "444          support vector     57\n",
       "392         semi supervised     57\n",
       "283             monte carlo     53"
      ]
     },
     "execution_count": 14,
     "metadata": {},
     "output_type": "execute_result"
    }
   ],
   "source": [
    "#bigrams or trigrams in title\n",
    "df_ngrams_title = top_ngrams(papers['title'], min_n=2, max_n=3, excluded_ngrams=excluded_ngrams)\n",
    "df_ngrams_title.head(10) # top 10 bigrams & trigrams"
   ]
  },
  {
   "cell_type": "markdown",
   "metadata": {},
   "source": [
    "NeurIPS (formerly NIPS) is a conference about information processing. Therefore, it is unsurprising that many of the commonly occuring bi-grams and tri-grams pertain to this theme (such as machine learning, neural networks, training set, data set, reinforcement learning etc). From a title generation point of view, the strong thematic links between the different documents may result in \"generic\" titles about machine learning and information processing, which we have to carefully deal with in our modeling stage."
   ]
  },
  {
   "cell_type": "markdown",
   "metadata": {},
   "source": [
    "---"
   ]
  }
 ],
 "metadata": {
  "kernelspec": {
   "display_name": "Python 3",
   "language": "python",
   "name": "python3"
  },
  "language_info": {
   "codemirror_mode": {
    "name": "ipython",
    "version": 3
   },
   "file_extension": ".py",
   "mimetype": "text/x-python",
   "name": "python",
   "nbconvert_exporter": "python",
   "pygments_lexer": "ipython3",
   "version": "3.6.8"
  }
 },
 "nbformat": 4,
 "nbformat_minor": 2
}
